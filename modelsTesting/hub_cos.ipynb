{
  "nbformat": 4,
  "nbformat_minor": 0,
  "metadata": {
    "colab": {
      "name": "aaiCos.ipynb",
      "provenance": [],
      "collapsed_sections": []
    },
    "kernelspec": {
      "name": "python3",
      "display_name": "Python 3",
      "language": "python"
    }
  },
  "cells": [
    {
      "cell_type": "code",
      "execution_count": 1,
      "metadata": {},
      "outputs": [
        {
          "output_type": "stream",
          "name": "stdout",
          "text": [
            "Requirement already satisfied: tensorflow in /home/sj/.local/lib/python3.8/site-packages (2.4.1)\n",
            "Requirement already satisfied: h5py~=2.10.0 in /home/sj/.local/lib/python3.8/site-packages (from tensorflow) (2.10.0)\n",
            "Requirement already satisfied: termcolor~=1.1.0 in /home/sj/.local/lib/python3.8/site-packages (from tensorflow) (1.1.0)\n",
            "Requirement already satisfied: protobuf>=3.9.2 in /home/sj/.local/lib/python3.8/site-packages (from tensorflow) (3.14.0)\n",
            "Requirement already satisfied: google-pasta~=0.2 in /home/sj/.local/lib/python3.8/site-packages (from tensorflow) (0.2.0)\n",
            "Requirement already satisfied: six~=1.15.0 in /home/sj/.local/lib/python3.8/site-packages (from tensorflow) (1.15.0)\n",
            "Requirement already satisfied: typing-extensions~=3.7.4 in /home/sj/.local/lib/python3.8/site-packages (from tensorflow) (3.7.4.3)\n",
            "Requirement already satisfied: gast==0.3.3 in /home/sj/.local/lib/python3.8/site-packages (from tensorflow) (0.3.3)\n",
            "Requirement already satisfied: astunparse~=1.6.3 in /home/sj/.local/lib/python3.8/site-packages (from tensorflow) (1.6.3)\n",
            "Requirement already satisfied: numpy~=1.19.2 in /home/sj/.local/lib/python3.8/site-packages (from tensorflow) (1.19.5)\n",
            "Requirement already satisfied: keras-preprocessing~=1.1.2 in /home/sj/.local/lib/python3.8/site-packages (from tensorflow) (1.1.2)\n",
            "Requirement already satisfied: opt-einsum~=3.3.0 in /home/sj/.local/lib/python3.8/site-packages (from tensorflow) (3.3.0)\n",
            "Requirement already satisfied: flatbuffers~=1.12.0 in /home/sj/.local/lib/python3.8/site-packages (from tensorflow) (1.12)\n",
            "Requirement already satisfied: tensorboard~=2.4 in /home/sj/.local/lib/python3.8/site-packages (from tensorflow) (2.4.1)\n",
            "Requirement already satisfied: absl-py~=0.10 in /home/sj/.local/lib/python3.8/site-packages (from tensorflow) (0.11.0)\n",
            "Requirement already satisfied: wrapt~=1.12.1 in /home/sj/.local/lib/python3.8/site-packages (from tensorflow) (1.12.1)\n",
            "Requirement already satisfied: wheel~=0.35 in /home/sj/.local/lib/python3.8/site-packages (from tensorflow) (0.36.2)\n",
            "Requirement already satisfied: tensorflow-estimator<2.5.0,>=2.4.0 in /home/sj/.local/lib/python3.8/site-packages (from tensorflow) (2.4.0)\n",
            "Requirement already satisfied: grpcio~=1.32.0 in /home/sj/.local/lib/python3.8/site-packages (from tensorflow) (1.32.0)\n",
            "Requirement already satisfied: google-auth-oauthlib<0.5,>=0.4.1 in /home/sj/.local/lib/python3.8/site-packages (from tensorboard~=2.4->tensorflow) (0.4.2)\n",
            "Requirement already satisfied: setuptools>=41.0.0 in /usr/lib/python3/dist-packages (from tensorboard~=2.4->tensorflow) (45.2.0)\n",
            "Requirement already satisfied: werkzeug>=0.11.15 in /home/sj/.local/lib/python3.8/site-packages (from tensorboard~=2.4->tensorflow) (1.0.1)\n",
            "Requirement already satisfied: markdown>=2.6.8 in /home/sj/.local/lib/python3.8/site-packages (from tensorboard~=2.4->tensorflow) (3.3.3)\n",
            "Requirement already satisfied: tensorboard-plugin-wit>=1.6.0 in /home/sj/.local/lib/python3.8/site-packages (from tensorboard~=2.4->tensorflow) (1.8.0)\n",
            "Requirement already satisfied: google-auth<2,>=1.6.3 in /home/sj/.local/lib/python3.8/site-packages (from tensorboard~=2.4->tensorflow) (1.24.0)\n",
            "Requirement already satisfied: requests<3,>=2.21.0 in /usr/lib/python3/dist-packages (from tensorboard~=2.4->tensorflow) (2.22.0)\n",
            "Requirement already satisfied: requests-oauthlib>=0.7.0 in /home/sj/.local/lib/python3.8/site-packages (from google-auth-oauthlib<0.5,>=0.4.1->tensorboard~=2.4->tensorflow) (1.3.0)\n",
            "Requirement already satisfied: pyasn1-modules>=0.2.1 in /home/sj/.local/lib/python3.8/site-packages (from google-auth<2,>=1.6.3->tensorboard~=2.4->tensorflow) (0.2.8)\n",
            "Requirement already satisfied: rsa<5,>=3.1.4; python_version >= \"3.6\" in /home/sj/.local/lib/python3.8/site-packages (from google-auth<2,>=1.6.3->tensorboard~=2.4->tensorflow) (4.7)\n",
            "Requirement already satisfied: cachetools<5.0,>=2.0.0 in /home/sj/.local/lib/python3.8/site-packages (from google-auth<2,>=1.6.3->tensorboard~=2.4->tensorflow) (4.2.1)\n",
            "Requirement already satisfied: oauthlib>=3.0.0 in /usr/lib/python3/dist-packages (from requests-oauthlib>=0.7.0->google-auth-oauthlib<0.5,>=0.4.1->tensorboard~=2.4->tensorflow) (3.1.0)\n",
            "Requirement already satisfied: pyasn1<0.5.0,>=0.4.6 in /home/sj/.local/lib/python3.8/site-packages (from pyasn1-modules>=0.2.1->google-auth<2,>=1.6.3->tensorboard~=2.4->tensorflow) (0.4.8)\n"
          ]
        }
      ],
      "source": [
        "!pip3 install tensorflow\n",
        "!pip3 install tensorflow-hub\n",
        "!pip3 install pandas\n",
        "!pip3 install matplotlib\n",
        "!pip3 install numpy"
      ]
    },
    {
      "cell_type": "code",
      "metadata": {
        "id": "llZ0bQjb66BE"
      },
      "source": [
        "import tensorflow as tf\n",
        "import tensorflow_hub as hub\n",
        "import pandas as pd\n",
        "import matplotlib.pyplot as plt\n",
        "import numpy as np\n",
        "%matplotlib inline\n",
        "\n",
        "\n"
      ],
      "execution_count": 4,
      "outputs": []
    },
    {
      "source": [
        "# Data\n",
        "Define actions and targets and setup data in pandas friendly form"
      ],
      "cell_type": "markdown",
      "metadata": {}
    },
    {
      "cell_type": "code",
      "metadata": {
        "colab": {
          "base_uri": "https://localhost:8080/"
        },
        "id": "Y1henQ6w6610",
        "outputId": "5d0b6293-05a5-4a1a-9ae8-3c0c7f173ee6"
      },
      "source": [
        "actions = {\n",
        "    \"select_project\": \"select project\",\n",
        "    \"select_folder\": \"select folder\",\n",
        "    \"select_timer\": \"select timer\"\n",
        "}\n",
        "timers = {\n",
        "    \"pomodoro\": \"Pomodoro 25\",\n",
        "    \"ultradian\": \"Ultradian rhytm 90\",\n",
        "    \"flow\": \"Flow stopwatch\",\n",
        "    \"just\": \"Just 5\"\n",
        "}\n",
        "projects = {\n",
        "    \"ztm_senior_web\": \"The Complete Junior to Senior Web Developer Roadmap (2021)\",\n",
        "    \"ztm_machine_learning\": \"Complete Machine Learning and Data Science Bootcamp 2021\",\n",
        "    \"adv_django\": \"Build a Backend REST API with Python and Django - Advanced\",\n",
        "    \"ztm_junior_web\": \"The Complete Web Developer in 2021: Zero to Mastery\"\n",
        "}\n",
        "folders = {\n",
        "    \"school\": \"School\",\n",
        "    \"work\": \"Work\",\n",
        "    \"personal_growth\": \"Personal Growth\"\n",
        "}\n",
        "\n",
        "templates = {\n",
        "    \"timer\": \"I am trying to choose timer called {}\",\n",
        "    \"project\": \"The project I am trying to select is named {}\",\n",
        "    \"folder\": \"I want to view folder called {}\"\n",
        "}"
      ],
      "execution_count": 5,
      "outputs": []
    },
    {
      "cell_type": "code",
      "execution_count": 6,
      "metadata": {},
      "outputs": [],
      "source": [
        "\n",
        "# embed = hub.load(\"https://tfhub.dev/google/tf2-preview/nnlm-en-dim128/1\")\n",
        "embed = hub.load(\"https://tfhub.dev/google/nnlm-en-dim128/2\")\n"
      ]
    },
    {
      "cell_type": "code",
      "execution_count": 7,
      "metadata": {},
      "outputs": [],
      "source": [
        "def map_results(res):\n",
        "    mapped = dict(zip(res[\"labels\"], res[\"scores\"]))\n",
        "    max_prob = min(mapped, key=mapped.get)\n",
        "    return mapped, max_prob"
      ]
    },
    {
      "cell_type": "code",
      "execution_count": 8,
      "metadata": {},
      "outputs": [],
      "source": [
        "def print_results(mapped, max_prob):\n",
        "    for key, val in mapped.items():\n",
        "        print(f\"{key} => {val}\")\n",
        "    print(f\"Max: {max_prob}\")"
      ]
    },
    {
      "cell_type": "code",
      "execution_count": 9,
      "metadata": {},
      "outputs": [],
      "source": [
        "def target_from_action(action):\n",
        "    if (action == actions[\"select_project\"]):\n",
        "        return list(projects.values())\n",
        "    elif (action == actions[\"select_timer\"]):\n",
        "        return list(timers.values())\n",
        "    elif (action == actions[\"select_folder\"]):\n",
        "        return list(folders.values())\n",
        "    else:\n",
        "        return []"
      ]
    },
    {
      "cell_type": "code",
      "execution_count": 10,
      "metadata": {},
      "outputs": [],
      "source": [
        "# convert potentials values to vetors lowercase before and return scores\n",
        "def get_scores(value : tuple,potential_values : list):\n",
        "    responses = {}\n",
        "    labels = []\n",
        "    scores = []\n",
        "    for pot_v in potential_values:\n",
        "          labels.append(pot_v)\n",
        "          scores.append(tf.keras.losses.cosine_similarity(\n",
        "                            value[1],embed([pot_v.lower()]),axis=-1 \n",
        "                            ))\n",
        "    responses[\"labels\"]=labels\n",
        "    responses[\"scores\"]=scores\n",
        "    return responses\n"
      ]
    },
    {
      "cell_type": "code",
      "execution_count": 11,
      "metadata": {},
      "outputs": [],
      "source": [
        "data = [\n",
        "    [\"select web\",\n",
        "    actions[\"select_project\"], projects[\"ztm_junior_web\"], templates[\"project\"]],\n",
        "    [\"select project zero to mastery web dev in 2021\",\n",
        "     actions[\"select_project\"], projects[\"ztm_junior_web\"], templates[\"project\"]],\n",
        "    [\"set project to zero to mastery web dev in 2021\",\n",
        "     actions[\"select_project\"], projects[\"ztm_junior_web\"], templates[\"project\"]],\n",
        "    [\"choose projects to zero to mastery web dev in 2021\",\n",
        "    actions[\"select_project\"], projects[\"ztm_junior_web\"], templates[\"project\"]],\n",
        "    [\"select project machine learning bootcamp\",\n",
        "    actions[\"select_project\"], projects[\"ztm_machine_learning\"], templates[\"project\"]],\n",
        "    [\"select project junior to senior web dev\",\n",
        "    actions[\"select_project\"], projects[\"ztm_senior_web\"], templates[\"project\"]],\n",
        "    [\"select project build a backend rest api with python and django advanced\",\n",
        "    actions[\"select_project\"], projects[\"adv_django\"], templates[\"project\"]],\n",
        "    [\"select project rest api with django\",\n",
        "    actions[\"select_project\"], projects[\"adv_django\"], templates[\"project\"]],\n",
        "    [\"select timer 25\",\n",
        "    actions[\"select_timer\"], timers[\"pomodoro\"], templates[\"timer\"]],\n",
        "    [\"select timer pomodoro\",\n",
        "    actions[\"select_timer\"], timers[\"pomodoro\"], templates[\"timer\"]],\n",
        "    [\"select timer rhytm\",\n",
        "    actions[\"select_timer\"], timers[\"ultradian\"], templates[\"timer\"]],\n",
        "    [\"select timer 90\",\n",
        "    actions[\"select_timer\"], timers[\"ultradian\"], templates[\"timer\"]],\n",
        "    [\"select timer ultradian rhytm 90\",\n",
        "    actions[\"select_timer\"], timers[\"ultradian\"], templates[\"timer\"]],\n",
        "    [\"select timer ultradian \",\n",
        "    actions[\"select_timer\"], timers[\"ultradian\"], templates[\"timer\"]],\n",
        "]\n",
        "column_names = [\"Command\", \"Expected action\", \"Expected target\"]\n"
      ]
    },
    {
      "source": [
        "# Tests\n",
        "Testing for commands defined"
      ],
      "cell_type": "markdown",
      "metadata": {}
    },
    {
      "cell_type": "code",
      "metadata": {
        "colab": {
          "base_uri": "https://localhost:8080/"
        },
        "id": "46TTpRDWE9gV",
        "outputId": "763760a1-64b6-470a-bdc0-38865f2104e9"
      },
      "source": [
        "\n",
        "\n",
        "results = []\n",
        "vec_data = []\n",
        "actions_match = None\n",
        "targets_match = None\n",
        "data2 = []\n",
        "\n",
        "# prepare data as vectors\n",
        "for value in data:\n",
        "  vec_row = []\n",
        "  normal_row = []\n",
        "  for i in range(3):\n",
        "    vec_row.append((value[i], embed([value[i].lower()])))\n",
        "    normal_row.append((value[i]))\n",
        "  vec_data.append(vec_row)\n",
        "  data2.append(normal_row)\n",
        "\n",
        "\n",
        "for vec_value in vec_data:\n",
        "  print(vec_value[0][0])\n",
        "  #Action\n",
        "  res_action = get_scores(vec_value[0], list(actions.values()))\n",
        "  map_action, max_action = map_results(res_action)\n",
        "  print_results(map_action, max_action)\n",
        "  \n",
        "  if(max_action == vec_value[1][0]):\n",
        "      actions_match = 1\n",
        "      print(\"Success!\")\n",
        "  else:\n",
        "      actions_match = 0\n",
        "      print(\"Failure\")\n",
        "  #Target\n",
        "\n",
        "  targets = target_from_action(max_action)\n",
        "\n",
        "  res_target = get_scores(vec_value[0], targets)\n",
        "  map_target, max_target = map_results(res_target)\n",
        "  print_results(map_target, max_target)\n",
        "  if(max_target == vec_value[2][0]):\n",
        "      targets_match = 1\n",
        "      print(\"Success!\")\n",
        "  else:\n",
        "      targets_match = 0\n",
        "      print(\"Failure\")\n",
        "\n",
        "  results.append([value[0], max_action, max_target, actions_match, targets_match])\n",
        "\n",
        "  print(60*\"--\")\n"
      ],
      "execution_count": 15,
      "outputs": [
        {
          "output_type": "stream",
          "name": "stdout",
          "text": [
            "select web\nselect project => [-0.5398697]\nselect folder => [-0.71530855]\nselect timer => [-0.5901908]\nMax: select folder\nFailure\nSchool => [-0.08375005]\nWork => [-0.07931974]\nPersonal Growth => [-0.15278517]\nMax: Personal Growth\nFailure\n------------------------------------------------------------------------------------------------------------------------\nselect project zero to mastery web dev in 2021\nselect project => [-0.5394285]\nselect folder => [-0.39828485]\nselect timer => [-0.41446054]\nMax: select project\nSuccess!\nThe Complete Junior to Senior Web Developer Roadmap (2021) => [-0.4003476]\nComplete Machine Learning and Data Science Bootcamp 2021 => [-0.5373488]\nBuild a Backend REST API with Python and Django - Advanced => [-0.453533]\nThe Complete Web Developer in 2021: Zero to Mastery => [-0.7144565]\nMax: The Complete Web Developer in 2021: Zero to Mastery\nSuccess!\n------------------------------------------------------------------------------------------------------------------------\nset project to zero to mastery web dev in 2021\nselect project => [-0.35722387]\nselect folder => [-0.18600827]\nselect timer => [-0.23744471]\nMax: select project\nSuccess!\nThe Complete Junior to Senior Web Developer Roadmap (2021) => [-0.41546965]\nComplete Machine Learning and Data Science Bootcamp 2021 => [-0.5029365]\nBuild a Backend REST API with Python and Django - Advanced => [-0.42100686]\nThe Complete Web Developer in 2021: Zero to Mastery => [-0.6618198]\nMax: The Complete Web Developer in 2021: Zero to Mastery\nSuccess!\n------------------------------------------------------------------------------------------------------------------------\nchoose projects to zero to mastery web dev in 2021\nselect project => [-0.3692703]\nselect folder => [-0.27470478]\nselect timer => [-0.28686848]\nMax: select project\nSuccess!\nThe Complete Junior to Senior Web Developer Roadmap (2021) => [-0.35214004]\nComplete Machine Learning and Data Science Bootcamp 2021 => [-0.47219035]\nBuild a Backend REST API with Python and Django - Advanced => [-0.3630358]\nThe Complete Web Developer in 2021: Zero to Mastery => [-0.66890323]\nMax: The Complete Web Developer in 2021: Zero to Mastery\nSuccess!\n------------------------------------------------------------------------------------------------------------------------\nselect project machine learning bootcamp\nselect project => [-0.6953443]\nselect folder => [-0.42670235]\nselect timer => [-0.3972337]\nMax: select project\nSuccess!\nThe Complete Junior to Senior Web Developer Roadmap (2021) => [-0.24578816]\nComplete Machine Learning and Data Science Bootcamp 2021 => [-0.6630539]\nBuild a Backend REST API with Python and Django - Advanced => [-0.2396156]\nThe Complete Web Developer in 2021: Zero to Mastery => [-0.3388097]\nMax: Complete Machine Learning and Data Science Bootcamp 2021\nSuccess!\n------------------------------------------------------------------------------------------------------------------------\nselect project junior to senior web dev\nselect project => [-0.55009985]\nselect folder => [-0.4016648]\nselect timer => [-0.4444896]\nMax: select project\nSuccess!\nThe Complete Junior to Senior Web Developer Roadmap (2021) => [-0.7491903]\nComplete Machine Learning and Data Science Bootcamp 2021 => [-0.3294419]\nBuild a Backend REST API with Python and Django - Advanced => [-0.40548697]\nThe Complete Web Developer in 2021: Zero to Mastery => [-0.4348196]\nMax: The Complete Junior to Senior Web Developer Roadmap (2021)\nSuccess!\n------------------------------------------------------------------------------------------------------------------------\nselect project build a backend rest api with python and django advanced\nselect project => [-0.54786664]\nselect folder => [-0.3653604]\nselect timer => [-0.38521177]\nMax: select project\nSuccess!\nThe Complete Junior to Senior Web Developer Roadmap (2021) => [-0.45909643]\nComplete Machine Learning and Data Science Bootcamp 2021 => [-0.40795186]\nBuild a Backend REST API with Python and Django - Advanced => [-0.90468466]\nThe Complete Web Developer in 2021: Zero to Mastery => [-0.4902831]\nMax: Build a Backend REST API with Python and Django - Advanced\nSuccess!\n------------------------------------------------------------------------------------------------------------------------\nselect project rest api with django\nselect project => [-0.6429405]\nselect folder => [-0.4593541]\nselect timer => [-0.4139892]\nMax: select project\nSuccess!\nThe Complete Junior to Senior Web Developer Roadmap (2021) => [-0.3141082]\nComplete Machine Learning and Data Science Bootcamp 2021 => [-0.26229042]\nBuild a Backend REST API with Python and Django - Advanced => [-0.62234867]\nThe Complete Web Developer in 2021: Zero to Mastery => [-0.3185075]\nMax: Build a Backend REST API with Python and Django - Advanced\nSuccess!\n------------------------------------------------------------------------------------------------------------------------\nselect timer 25\nselect project => [-0.5022118]\nselect folder => [-0.6253661]\nselect timer => [-0.8292126]\nMax: select timer\nSuccess!\nPomodoro 25 => [-0.5177251]\nUltradian rhytm 90 => [-0.02887547]\nFlow stopwatch => [-0.12834546]\nJust 5 => [-0.09055373]\nMax: Pomodoro 25\nSuccess!\n------------------------------------------------------------------------------------------------------------------------\nselect timer pomodoro\nselect project => [-0.4451337]\nselect folder => [-0.5871689]\nselect timer => [-0.861027]\nMax: select timer\nSuccess!\nPomodoro 25 => [-0.45848602]\nUltradian rhytm 90 => [0.09246602]\nFlow stopwatch => [-0.24501166]\nJust 5 => [-0.09381984]\nMax: Pomodoro 25\nSuccess!\n------------------------------------------------------------------------------------------------------------------------\nselect timer rhytm\nselect project => [-0.4103173]\nselect folder => [-0.5315505]\nselect timer => [-0.78915256]\nMax: select timer\nSuccess!\nPomodoro 25 => [-0.23116364]\nUltradian rhytm 90 => [-0.28470707]\nFlow stopwatch => [-0.13297619]\nJust 5 => [-0.03220765]\nMax: Ultradian rhytm 90\nSuccess!\n------------------------------------------------------------------------------------------------------------------------\nselect timer 90\nselect project => [-0.40563035]\nselect folder => [-0.48400092]\nselect timer => [-0.80270374]\nMax: select timer\nSuccess!\nPomodoro 25 => [-0.12813945]\nUltradian rhytm 90 => [-0.2296453]\nFlow stopwatch => [-0.16140376]\nJust 5 => [-0.11897603]\nMax: Ultradian rhytm 90\nSuccess!\n------------------------------------------------------------------------------------------------------------------------\nselect timer ultradian rhytm 90\nselect project => [-0.2011976]\nselect folder => [-0.29559514]\nselect timer => [-0.48347384]\nMax: select timer\nSuccess!\nPomodoro 25 => [-0.30469733]\nUltradian rhytm 90 => [-0.78101516]\nFlow stopwatch => [-0.06204944]\nJust 5 => [0.00167445]\nMax: Ultradian rhytm 90\nSuccess!\n------------------------------------------------------------------------------------------------------------------------\nselect timer ultradian \nselect project => [-0.43854782]\nselect folder => [-0.55268687]\nselect timer => [-0.79711825]\nMax: select timer\nSuccess!\nPomodoro 25 => [-0.26115975]\nUltradian rhytm 90 => [-0.2582745]\nFlow stopwatch => [-0.21348208]\nJust 5 => [-0.09485613]\nMax: Pomodoro 25\nFailure\n------------------------------------------------------------------------------------------------------------------------\n"
          ]
        }
      ]
    },
    {
      "source": [
        "# Visualizing"
      ],
      "cell_type": "markdown",
      "metadata": {}
    },
    {
      "cell_type": "code",
      "metadata": {
        "id": "Mhw2RxeU7PYZ"
      },
      "source": [
        "df = pd.DataFrame(data2, columns=column_names)\n",
        "df"
      ],
      "execution_count": 16,
      "outputs": [
        {
          "output_type": "execute_result",
          "data": {
            "text/plain": [
              "                                              Command Expected action  \\\n",
              "0                                          select web  select project   \n",
              "1      select project zero to mastery web dev in 2021  select project   \n",
              "2      set project to zero to mastery web dev in 2021  select project   \n",
              "3   choose projects to zero to mastery web dev in ...  select project   \n",
              "4            select project machine learning bootcamp  select project   \n",
              "5             select project junior to senior web dev  select project   \n",
              "6   select project build a backend rest api with p...  select project   \n",
              "7                 select project rest api with django  select project   \n",
              "8                                     select timer 25    select timer   \n",
              "9                               select timer pomodoro    select timer   \n",
              "10                                 select timer rhytm    select timer   \n",
              "11                                    select timer 90    select timer   \n",
              "12                    select timer ultradian rhytm 90    select timer   \n",
              "13                            select timer ultradian     select timer   \n",
              "\n",
              "                                      Expected target  \n",
              "0   The Complete Web Developer in 2021: Zero to Ma...  \n",
              "1   The Complete Web Developer in 2021: Zero to Ma...  \n",
              "2   The Complete Web Developer in 2021: Zero to Ma...  \n",
              "3   The Complete Web Developer in 2021: Zero to Ma...  \n",
              "4   Complete Machine Learning and Data Science Boo...  \n",
              "5   The Complete Junior to Senior Web Developer Ro...  \n",
              "6   Build a Backend REST API with Python and Djang...  \n",
              "7   Build a Backend REST API with Python and Djang...  \n",
              "8                                         Pomodoro 25  \n",
              "9                                         Pomodoro 25  \n",
              "10                                 Ultradian rhytm 90  \n",
              "11                                 Ultradian rhytm 90  \n",
              "12                                 Ultradian rhytm 90  \n",
              "13                                 Ultradian rhytm 90  "
            ],
            "text/html": "<div>\n<style scoped>\n    .dataframe tbody tr th:only-of-type {\n        vertical-align: middle;\n    }\n\n    .dataframe tbody tr th {\n        vertical-align: top;\n    }\n\n    .dataframe thead th {\n        text-align: right;\n    }\n</style>\n<table border=\"1\" class=\"dataframe\">\n  <thead>\n    <tr style=\"text-align: right;\">\n      <th></th>\n      <th>Command</th>\n      <th>Expected action</th>\n      <th>Expected target</th>\n    </tr>\n  </thead>\n  <tbody>\n    <tr>\n      <th>0</th>\n      <td>select web</td>\n      <td>select project</td>\n      <td>The Complete Web Developer in 2021: Zero to Ma...</td>\n    </tr>\n    <tr>\n      <th>1</th>\n      <td>select project zero to mastery web dev in 2021</td>\n      <td>select project</td>\n      <td>The Complete Web Developer in 2021: Zero to Ma...</td>\n    </tr>\n    <tr>\n      <th>2</th>\n      <td>set project to zero to mastery web dev in 2021</td>\n      <td>select project</td>\n      <td>The Complete Web Developer in 2021: Zero to Ma...</td>\n    </tr>\n    <tr>\n      <th>3</th>\n      <td>choose projects to zero to mastery web dev in ...</td>\n      <td>select project</td>\n      <td>The Complete Web Developer in 2021: Zero to Ma...</td>\n    </tr>\n    <tr>\n      <th>4</th>\n      <td>select project machine learning bootcamp</td>\n      <td>select project</td>\n      <td>Complete Machine Learning and Data Science Boo...</td>\n    </tr>\n    <tr>\n      <th>5</th>\n      <td>select project junior to senior web dev</td>\n      <td>select project</td>\n      <td>The Complete Junior to Senior Web Developer Ro...</td>\n    </tr>\n    <tr>\n      <th>6</th>\n      <td>select project build a backend rest api with p...</td>\n      <td>select project</td>\n      <td>Build a Backend REST API with Python and Djang...</td>\n    </tr>\n    <tr>\n      <th>7</th>\n      <td>select project rest api with django</td>\n      <td>select project</td>\n      <td>Build a Backend REST API with Python and Djang...</td>\n    </tr>\n    <tr>\n      <th>8</th>\n      <td>select timer 25</td>\n      <td>select timer</td>\n      <td>Pomodoro 25</td>\n    </tr>\n    <tr>\n      <th>9</th>\n      <td>select timer pomodoro</td>\n      <td>select timer</td>\n      <td>Pomodoro 25</td>\n    </tr>\n    <tr>\n      <th>10</th>\n      <td>select timer rhytm</td>\n      <td>select timer</td>\n      <td>Ultradian rhytm 90</td>\n    </tr>\n    <tr>\n      <th>11</th>\n      <td>select timer 90</td>\n      <td>select timer</td>\n      <td>Ultradian rhytm 90</td>\n    </tr>\n    <tr>\n      <th>12</th>\n      <td>select timer ultradian rhytm 90</td>\n      <td>select timer</td>\n      <td>Ultradian rhytm 90</td>\n    </tr>\n    <tr>\n      <th>13</th>\n      <td>select timer ultradian</td>\n      <td>select timer</td>\n      <td>Ultradian rhytm 90</td>\n    </tr>\n  </tbody>\n</table>\n</div>"
          },
          "metadata": {},
          "execution_count": 16
        }
      ]
    },
    {
      "cell_type": "code",
      "execution_count": 17,
      "metadata": {},
      "outputs": [
        {
          "output_type": "execute_result",
          "data": {
            "text/plain": [
              "                    Command Recognized Action  \\\n",
              "0   select timer ultradian      select folder   \n",
              "1   select timer ultradian     select project   \n",
              "2   select timer ultradian     select project   \n",
              "3   select timer ultradian     select project   \n",
              "4   select timer ultradian     select project   \n",
              "5   select timer ultradian     select project   \n",
              "6   select timer ultradian     select project   \n",
              "7   select timer ultradian     select project   \n",
              "8   select timer ultradian       select timer   \n",
              "9   select timer ultradian       select timer   \n",
              "10  select timer ultradian       select timer   \n",
              "11  select timer ultradian       select timer   \n",
              "12  select timer ultradian       select timer   \n",
              "13  select timer ultradian       select timer   \n",
              "\n",
              "                                    Recognized Target  Actions Match  \\\n",
              "0                                     Personal Growth              0   \n",
              "1   The Complete Web Developer in 2021: Zero to Ma...              1   \n",
              "2   The Complete Web Developer in 2021: Zero to Ma...              1   \n",
              "3   The Complete Web Developer in 2021: Zero to Ma...              1   \n",
              "4   Complete Machine Learning and Data Science Boo...              1   \n",
              "5   The Complete Junior to Senior Web Developer Ro...              1   \n",
              "6   Build a Backend REST API with Python and Djang...              1   \n",
              "7   Build a Backend REST API with Python and Djang...              1   \n",
              "8                                         Pomodoro 25              1   \n",
              "9                                         Pomodoro 25              1   \n",
              "10                                 Ultradian rhytm 90              1   \n",
              "11                                 Ultradian rhytm 90              1   \n",
              "12                                 Ultradian rhytm 90              1   \n",
              "13                                        Pomodoro 25              1   \n",
              "\n",
              "    Targets Match  \n",
              "0               0  \n",
              "1               1  \n",
              "2               1  \n",
              "3               1  \n",
              "4               1  \n",
              "5               1  \n",
              "6               1  \n",
              "7               1  \n",
              "8               1  \n",
              "9               1  \n",
              "10              1  \n",
              "11              1  \n",
              "12              1  \n",
              "13              0  "
            ],
            "text/html": "<div>\n<style scoped>\n    .dataframe tbody tr th:only-of-type {\n        vertical-align: middle;\n    }\n\n    .dataframe tbody tr th {\n        vertical-align: top;\n    }\n\n    .dataframe thead th {\n        text-align: right;\n    }\n</style>\n<table border=\"1\" class=\"dataframe\">\n  <thead>\n    <tr style=\"text-align: right;\">\n      <th></th>\n      <th>Command</th>\n      <th>Recognized Action</th>\n      <th>Recognized Target</th>\n      <th>Actions Match</th>\n      <th>Targets Match</th>\n    </tr>\n  </thead>\n  <tbody>\n    <tr>\n      <th>0</th>\n      <td>select timer ultradian</td>\n      <td>select folder</td>\n      <td>Personal Growth</td>\n      <td>0</td>\n      <td>0</td>\n    </tr>\n    <tr>\n      <th>1</th>\n      <td>select timer ultradian</td>\n      <td>select project</td>\n      <td>The Complete Web Developer in 2021: Zero to Ma...</td>\n      <td>1</td>\n      <td>1</td>\n    </tr>\n    <tr>\n      <th>2</th>\n      <td>select timer ultradian</td>\n      <td>select project</td>\n      <td>The Complete Web Developer in 2021: Zero to Ma...</td>\n      <td>1</td>\n      <td>1</td>\n    </tr>\n    <tr>\n      <th>3</th>\n      <td>select timer ultradian</td>\n      <td>select project</td>\n      <td>The Complete Web Developer in 2021: Zero to Ma...</td>\n      <td>1</td>\n      <td>1</td>\n    </tr>\n    <tr>\n      <th>4</th>\n      <td>select timer ultradian</td>\n      <td>select project</td>\n      <td>Complete Machine Learning and Data Science Boo...</td>\n      <td>1</td>\n      <td>1</td>\n    </tr>\n    <tr>\n      <th>5</th>\n      <td>select timer ultradian</td>\n      <td>select project</td>\n      <td>The Complete Junior to Senior Web Developer Ro...</td>\n      <td>1</td>\n      <td>1</td>\n    </tr>\n    <tr>\n      <th>6</th>\n      <td>select timer ultradian</td>\n      <td>select project</td>\n      <td>Build a Backend REST API with Python and Djang...</td>\n      <td>1</td>\n      <td>1</td>\n    </tr>\n    <tr>\n      <th>7</th>\n      <td>select timer ultradian</td>\n      <td>select project</td>\n      <td>Build a Backend REST API with Python and Djang...</td>\n      <td>1</td>\n      <td>1</td>\n    </tr>\n    <tr>\n      <th>8</th>\n      <td>select timer ultradian</td>\n      <td>select timer</td>\n      <td>Pomodoro 25</td>\n      <td>1</td>\n      <td>1</td>\n    </tr>\n    <tr>\n      <th>9</th>\n      <td>select timer ultradian</td>\n      <td>select timer</td>\n      <td>Pomodoro 25</td>\n      <td>1</td>\n      <td>1</td>\n    </tr>\n    <tr>\n      <th>10</th>\n      <td>select timer ultradian</td>\n      <td>select timer</td>\n      <td>Ultradian rhytm 90</td>\n      <td>1</td>\n      <td>1</td>\n    </tr>\n    <tr>\n      <th>11</th>\n      <td>select timer ultradian</td>\n      <td>select timer</td>\n      <td>Ultradian rhytm 90</td>\n      <td>1</td>\n      <td>1</td>\n    </tr>\n    <tr>\n      <th>12</th>\n      <td>select timer ultradian</td>\n      <td>select timer</td>\n      <td>Ultradian rhytm 90</td>\n      <td>1</td>\n      <td>1</td>\n    </tr>\n    <tr>\n      <th>13</th>\n      <td>select timer ultradian</td>\n      <td>select timer</td>\n      <td>Pomodoro 25</td>\n      <td>1</td>\n      <td>0</td>\n    </tr>\n  </tbody>\n</table>\n</div>"
          },
          "metadata": {},
          "execution_count": 17
        }
      ],
      "source": [
        "res_cols = [\"Command\", \"Recognized Action\", \"Recognized Target\", \"Actions Match\", \"Targets Match\"]\n",
        "df_results = pd.DataFrame(results, columns=res_cols)\n",
        "df_results"
      ]
    },
    {
      "cell_type": "code",
      "execution_count": 18,
      "metadata": {},
      "outputs": [
        {
          "output_type": "execute_result",
          "data": {
            "text/plain": [
              "                                                   Expected action  \\\n",
              "Command                                                              \n",
              "choose projects to zero to mastery web dev in 2021  select project   \n",
              "select project build a backend rest api with py...  select project   \n",
              "select project junior to senior web dev             select project   \n",
              "select project machine learning bootcamp            select project   \n",
              "select project rest api with django                 select project   \n",
              "select project zero to mastery web dev in 2021      select project   \n",
              "select timer 25                                       select timer   \n",
              "select timer 90                                       select timer   \n",
              "select timer pomodoro                                 select timer   \n",
              "select timer rhytm                                    select timer   \n",
              "select timer ultradian                                select timer   \n",
              "select timer ultradian                                select timer   \n",
              "select timer ultradian                                select timer   \n",
              "select timer ultradian                                select timer   \n",
              "select timer ultradian                                select timer   \n",
              "select timer ultradian                                select timer   \n",
              "select timer ultradian                                select timer   \n",
              "select timer ultradian                                select timer   \n",
              "select timer ultradian                                select timer   \n",
              "select timer ultradian                                select timer   \n",
              "select timer ultradian                                select timer   \n",
              "select timer ultradian                                select timer   \n",
              "select timer ultradian                                select timer   \n",
              "select timer ultradian                                select timer   \n",
              "select timer ultradian rhytm 90                       select timer   \n",
              "select web                                          select project   \n",
              "set project to zero to mastery web dev in 2021      select project   \n",
              "\n",
              "                                                                                      Expected target  \\\n",
              "Command                                                                                                 \n",
              "choose projects to zero to mastery web dev in 2021  The Complete Web Developer in 2021: Zero to Ma...   \n",
              "select project build a backend rest api with py...  Build a Backend REST API with Python and Djang...   \n",
              "select project junior to senior web dev             The Complete Junior to Senior Web Developer Ro...   \n",
              "select project machine learning bootcamp            Complete Machine Learning and Data Science Boo...   \n",
              "select project rest api with django                 Build a Backend REST API with Python and Djang...   \n",
              "select project zero to mastery web dev in 2021      The Complete Web Developer in 2021: Zero to Ma...   \n",
              "select timer 25                                                                           Pomodoro 25   \n",
              "select timer 90                                                                    Ultradian rhytm 90   \n",
              "select timer pomodoro                                                                     Pomodoro 25   \n",
              "select timer rhytm                                                                 Ultradian rhytm 90   \n",
              "select timer ultradian                                                             Ultradian rhytm 90   \n",
              "select timer ultradian                                                             Ultradian rhytm 90   \n",
              "select timer ultradian                                                             Ultradian rhytm 90   \n",
              "select timer ultradian                                                             Ultradian rhytm 90   \n",
              "select timer ultradian                                                             Ultradian rhytm 90   \n",
              "select timer ultradian                                                             Ultradian rhytm 90   \n",
              "select timer ultradian                                                             Ultradian rhytm 90   \n",
              "select timer ultradian                                                             Ultradian rhytm 90   \n",
              "select timer ultradian                                                             Ultradian rhytm 90   \n",
              "select timer ultradian                                                             Ultradian rhytm 90   \n",
              "select timer ultradian                                                             Ultradian rhytm 90   \n",
              "select timer ultradian                                                             Ultradian rhytm 90   \n",
              "select timer ultradian                                                             Ultradian rhytm 90   \n",
              "select timer ultradian                                                             Ultradian rhytm 90   \n",
              "select timer ultradian rhytm 90                                                    Ultradian rhytm 90   \n",
              "select web                                          The Complete Web Developer in 2021: Zero to Ma...   \n",
              "set project to zero to mastery web dev in 2021      The Complete Web Developer in 2021: Zero to Ma...   \n",
              "\n",
              "                                                   Recognized Action  \\\n",
              "Command                                                                \n",
              "choose projects to zero to mastery web dev in 2021               NaN   \n",
              "select project build a backend rest api with py...               NaN   \n",
              "select project junior to senior web dev                          NaN   \n",
              "select project machine learning bootcamp                         NaN   \n",
              "select project rest api with django                              NaN   \n",
              "select project zero to mastery web dev in 2021                   NaN   \n",
              "select timer 25                                                  NaN   \n",
              "select timer 90                                                  NaN   \n",
              "select timer pomodoro                                            NaN   \n",
              "select timer rhytm                                               NaN   \n",
              "select timer ultradian                                 select folder   \n",
              "select timer ultradian                                select project   \n",
              "select timer ultradian                                select project   \n",
              "select timer ultradian                                select project   \n",
              "select timer ultradian                                select project   \n",
              "select timer ultradian                                select project   \n",
              "select timer ultradian                                select project   \n",
              "select timer ultradian                                select project   \n",
              "select timer ultradian                                  select timer   \n",
              "select timer ultradian                                  select timer   \n",
              "select timer ultradian                                  select timer   \n",
              "select timer ultradian                                  select timer   \n",
              "select timer ultradian                                  select timer   \n",
              "select timer ultradian                                  select timer   \n",
              "select timer ultradian rhytm 90                                  NaN   \n",
              "select web                                                       NaN   \n",
              "set project to zero to mastery web dev in 2021                   NaN   \n",
              "\n",
              "                                                                                    Recognized Target  \\\n",
              "Command                                                                                                 \n",
              "choose projects to zero to mastery web dev in 2021                                                NaN   \n",
              "select project build a backend rest api with py...                                                NaN   \n",
              "select project junior to senior web dev                                                           NaN   \n",
              "select project machine learning bootcamp                                                          NaN   \n",
              "select project rest api with django                                                               NaN   \n",
              "select project zero to mastery web dev in 2021                                                    NaN   \n",
              "select timer 25                                                                                   NaN   \n",
              "select timer 90                                                                                   NaN   \n",
              "select timer pomodoro                                                                             NaN   \n",
              "select timer rhytm                                                                                NaN   \n",
              "select timer ultradian                                                                Personal Growth   \n",
              "select timer ultradian                              The Complete Web Developer in 2021: Zero to Ma...   \n",
              "select timer ultradian                              The Complete Web Developer in 2021: Zero to Ma...   \n",
              "select timer ultradian                              The Complete Web Developer in 2021: Zero to Ma...   \n",
              "select timer ultradian                              Complete Machine Learning and Data Science Boo...   \n",
              "select timer ultradian                              The Complete Junior to Senior Web Developer Ro...   \n",
              "select timer ultradian                              Build a Backend REST API with Python and Djang...   \n",
              "select timer ultradian                              Build a Backend REST API with Python and Djang...   \n",
              "select timer ultradian                                                                    Pomodoro 25   \n",
              "select timer ultradian                                                                    Pomodoro 25   \n",
              "select timer ultradian                                                             Ultradian rhytm 90   \n",
              "select timer ultradian                                                             Ultradian rhytm 90   \n",
              "select timer ultradian                                                             Ultradian rhytm 90   \n",
              "select timer ultradian                                                                    Pomodoro 25   \n",
              "select timer ultradian rhytm 90                                                                   NaN   \n",
              "select web                                                                                        NaN   \n",
              "set project to zero to mastery web dev in 2021                                                    NaN   \n",
              "\n",
              "                                                    Actions Match  \\\n",
              "Command                                                             \n",
              "choose projects to zero to mastery web dev in 2021            NaN   \n",
              "select project build a backend rest api with py...            NaN   \n",
              "select project junior to senior web dev                       NaN   \n",
              "select project machine learning bootcamp                      NaN   \n",
              "select project rest api with django                           NaN   \n",
              "select project zero to mastery web dev in 2021                NaN   \n",
              "select timer 25                                               NaN   \n",
              "select timer 90                                               NaN   \n",
              "select timer pomodoro                                         NaN   \n",
              "select timer rhytm                                            NaN   \n",
              "select timer ultradian                                        0.0   \n",
              "select timer ultradian                                        1.0   \n",
              "select timer ultradian                                        1.0   \n",
              "select timer ultradian                                        1.0   \n",
              "select timer ultradian                                        1.0   \n",
              "select timer ultradian                                        1.0   \n",
              "select timer ultradian                                        1.0   \n",
              "select timer ultradian                                        1.0   \n",
              "select timer ultradian                                        1.0   \n",
              "select timer ultradian                                        1.0   \n",
              "select timer ultradian                                        1.0   \n",
              "select timer ultradian                                        1.0   \n",
              "select timer ultradian                                        1.0   \n",
              "select timer ultradian                                        1.0   \n",
              "select timer ultradian rhytm 90                               NaN   \n",
              "select web                                                    NaN   \n",
              "set project to zero to mastery web dev in 2021                NaN   \n",
              "\n",
              "                                                    Targets Match  \n",
              "Command                                                            \n",
              "choose projects to zero to mastery web dev in 2021            NaN  \n",
              "select project build a backend rest api with py...            NaN  \n",
              "select project junior to senior web dev                       NaN  \n",
              "select project machine learning bootcamp                      NaN  \n",
              "select project rest api with django                           NaN  \n",
              "select project zero to mastery web dev in 2021                NaN  \n",
              "select timer 25                                               NaN  \n",
              "select timer 90                                               NaN  \n",
              "select timer pomodoro                                         NaN  \n",
              "select timer rhytm                                            NaN  \n",
              "select timer ultradian                                        0.0  \n",
              "select timer ultradian                                        1.0  \n",
              "select timer ultradian                                        1.0  \n",
              "select timer ultradian                                        1.0  \n",
              "select timer ultradian                                        1.0  \n",
              "select timer ultradian                                        1.0  \n",
              "select timer ultradian                                        1.0  \n",
              "select timer ultradian                                        1.0  \n",
              "select timer ultradian                                        1.0  \n",
              "select timer ultradian                                        1.0  \n",
              "select timer ultradian                                        1.0  \n",
              "select timer ultradian                                        1.0  \n",
              "select timer ultradian                                        1.0  \n",
              "select timer ultradian                                        0.0  \n",
              "select timer ultradian rhytm 90                               NaN  \n",
              "select web                                                    NaN  \n",
              "set project to zero to mastery web dev in 2021                NaN  "
            ],
            "text/html": "<div>\n<style scoped>\n    .dataframe tbody tr th:only-of-type {\n        vertical-align: middle;\n    }\n\n    .dataframe tbody tr th {\n        vertical-align: top;\n    }\n\n    .dataframe thead th {\n        text-align: right;\n    }\n</style>\n<table border=\"1\" class=\"dataframe\">\n  <thead>\n    <tr style=\"text-align: right;\">\n      <th></th>\n      <th>Expected action</th>\n      <th>Expected target</th>\n      <th>Recognized Action</th>\n      <th>Recognized Target</th>\n      <th>Actions Match</th>\n      <th>Targets Match</th>\n    </tr>\n    <tr>\n      <th>Command</th>\n      <th></th>\n      <th></th>\n      <th></th>\n      <th></th>\n      <th></th>\n      <th></th>\n    </tr>\n  </thead>\n  <tbody>\n    <tr>\n      <th>choose projects to zero to mastery web dev in 2021</th>\n      <td>select project</td>\n      <td>The Complete Web Developer in 2021: Zero to Ma...</td>\n      <td>NaN</td>\n      <td>NaN</td>\n      <td>NaN</td>\n      <td>NaN</td>\n    </tr>\n    <tr>\n      <th>select project build a backend rest api with python and django advanced</th>\n      <td>select project</td>\n      <td>Build a Backend REST API with Python and Djang...</td>\n      <td>NaN</td>\n      <td>NaN</td>\n      <td>NaN</td>\n      <td>NaN</td>\n    </tr>\n    <tr>\n      <th>select project junior to senior web dev</th>\n      <td>select project</td>\n      <td>The Complete Junior to Senior Web Developer Ro...</td>\n      <td>NaN</td>\n      <td>NaN</td>\n      <td>NaN</td>\n      <td>NaN</td>\n    </tr>\n    <tr>\n      <th>select project machine learning bootcamp</th>\n      <td>select project</td>\n      <td>Complete Machine Learning and Data Science Boo...</td>\n      <td>NaN</td>\n      <td>NaN</td>\n      <td>NaN</td>\n      <td>NaN</td>\n    </tr>\n    <tr>\n      <th>select project rest api with django</th>\n      <td>select project</td>\n      <td>Build a Backend REST API with Python and Djang...</td>\n      <td>NaN</td>\n      <td>NaN</td>\n      <td>NaN</td>\n      <td>NaN</td>\n    </tr>\n    <tr>\n      <th>select project zero to mastery web dev in 2021</th>\n      <td>select project</td>\n      <td>The Complete Web Developer in 2021: Zero to Ma...</td>\n      <td>NaN</td>\n      <td>NaN</td>\n      <td>NaN</td>\n      <td>NaN</td>\n    </tr>\n    <tr>\n      <th>select timer 25</th>\n      <td>select timer</td>\n      <td>Pomodoro 25</td>\n      <td>NaN</td>\n      <td>NaN</td>\n      <td>NaN</td>\n      <td>NaN</td>\n    </tr>\n    <tr>\n      <th>select timer 90</th>\n      <td>select timer</td>\n      <td>Ultradian rhytm 90</td>\n      <td>NaN</td>\n      <td>NaN</td>\n      <td>NaN</td>\n      <td>NaN</td>\n    </tr>\n    <tr>\n      <th>select timer pomodoro</th>\n      <td>select timer</td>\n      <td>Pomodoro 25</td>\n      <td>NaN</td>\n      <td>NaN</td>\n      <td>NaN</td>\n      <td>NaN</td>\n    </tr>\n    <tr>\n      <th>select timer rhytm</th>\n      <td>select timer</td>\n      <td>Ultradian rhytm 90</td>\n      <td>NaN</td>\n      <td>NaN</td>\n      <td>NaN</td>\n      <td>NaN</td>\n    </tr>\n    <tr>\n      <th>select timer ultradian</th>\n      <td>select timer</td>\n      <td>Ultradian rhytm 90</td>\n      <td>select folder</td>\n      <td>Personal Growth</td>\n      <td>0.0</td>\n      <td>0.0</td>\n    </tr>\n    <tr>\n      <th>select timer ultradian</th>\n      <td>select timer</td>\n      <td>Ultradian rhytm 90</td>\n      <td>select project</td>\n      <td>The Complete Web Developer in 2021: Zero to Ma...</td>\n      <td>1.0</td>\n      <td>1.0</td>\n    </tr>\n    <tr>\n      <th>select timer ultradian</th>\n      <td>select timer</td>\n      <td>Ultradian rhytm 90</td>\n      <td>select project</td>\n      <td>The Complete Web Developer in 2021: Zero to Ma...</td>\n      <td>1.0</td>\n      <td>1.0</td>\n    </tr>\n    <tr>\n      <th>select timer ultradian</th>\n      <td>select timer</td>\n      <td>Ultradian rhytm 90</td>\n      <td>select project</td>\n      <td>The Complete Web Developer in 2021: Zero to Ma...</td>\n      <td>1.0</td>\n      <td>1.0</td>\n    </tr>\n    <tr>\n      <th>select timer ultradian</th>\n      <td>select timer</td>\n      <td>Ultradian rhytm 90</td>\n      <td>select project</td>\n      <td>Complete Machine Learning and Data Science Boo...</td>\n      <td>1.0</td>\n      <td>1.0</td>\n    </tr>\n    <tr>\n      <th>select timer ultradian</th>\n      <td>select timer</td>\n      <td>Ultradian rhytm 90</td>\n      <td>select project</td>\n      <td>The Complete Junior to Senior Web Developer Ro...</td>\n      <td>1.0</td>\n      <td>1.0</td>\n    </tr>\n    <tr>\n      <th>select timer ultradian</th>\n      <td>select timer</td>\n      <td>Ultradian rhytm 90</td>\n      <td>select project</td>\n      <td>Build a Backend REST API with Python and Djang...</td>\n      <td>1.0</td>\n      <td>1.0</td>\n    </tr>\n    <tr>\n      <th>select timer ultradian</th>\n      <td>select timer</td>\n      <td>Ultradian rhytm 90</td>\n      <td>select project</td>\n      <td>Build a Backend REST API with Python and Djang...</td>\n      <td>1.0</td>\n      <td>1.0</td>\n    </tr>\n    <tr>\n      <th>select timer ultradian</th>\n      <td>select timer</td>\n      <td>Ultradian rhytm 90</td>\n      <td>select timer</td>\n      <td>Pomodoro 25</td>\n      <td>1.0</td>\n      <td>1.0</td>\n    </tr>\n    <tr>\n      <th>select timer ultradian</th>\n      <td>select timer</td>\n      <td>Ultradian rhytm 90</td>\n      <td>select timer</td>\n      <td>Pomodoro 25</td>\n      <td>1.0</td>\n      <td>1.0</td>\n    </tr>\n    <tr>\n      <th>select timer ultradian</th>\n      <td>select timer</td>\n      <td>Ultradian rhytm 90</td>\n      <td>select timer</td>\n      <td>Ultradian rhytm 90</td>\n      <td>1.0</td>\n      <td>1.0</td>\n    </tr>\n    <tr>\n      <th>select timer ultradian</th>\n      <td>select timer</td>\n      <td>Ultradian rhytm 90</td>\n      <td>select timer</td>\n      <td>Ultradian rhytm 90</td>\n      <td>1.0</td>\n      <td>1.0</td>\n    </tr>\n    <tr>\n      <th>select timer ultradian</th>\n      <td>select timer</td>\n      <td>Ultradian rhytm 90</td>\n      <td>select timer</td>\n      <td>Ultradian rhytm 90</td>\n      <td>1.0</td>\n      <td>1.0</td>\n    </tr>\n    <tr>\n      <th>select timer ultradian</th>\n      <td>select timer</td>\n      <td>Ultradian rhytm 90</td>\n      <td>select timer</td>\n      <td>Pomodoro 25</td>\n      <td>1.0</td>\n      <td>0.0</td>\n    </tr>\n    <tr>\n      <th>select timer ultradian rhytm 90</th>\n      <td>select timer</td>\n      <td>Ultradian rhytm 90</td>\n      <td>NaN</td>\n      <td>NaN</td>\n      <td>NaN</td>\n      <td>NaN</td>\n    </tr>\n    <tr>\n      <th>select web</th>\n      <td>select project</td>\n      <td>The Complete Web Developer in 2021: Zero to Ma...</td>\n      <td>NaN</td>\n      <td>NaN</td>\n      <td>NaN</td>\n      <td>NaN</td>\n    </tr>\n    <tr>\n      <th>set project to zero to mastery web dev in 2021</th>\n      <td>select project</td>\n      <td>The Complete Web Developer in 2021: Zero to Ma...</td>\n      <td>NaN</td>\n      <td>NaN</td>\n      <td>NaN</td>\n      <td>NaN</td>\n    </tr>\n  </tbody>\n</table>\n</div>"
          },
          "metadata": {},
          "execution_count": 18
        }
      ],
      "source": [
        "joined_df = df.set_index(\"Command\").join(df_results.set_index(\"Command\"))\n",
        "joined_df"
      ]
    },
    {
      "cell_type": "code",
      "execution_count": 19,
      "metadata": {},
      "outputs": [
        {
          "output_type": "execute_result",
          "data": {
            "text/plain": [
              "1.0    13\n",
              "0.0     1\n",
              "Name: Actions Match, dtype: int64"
            ]
          },
          "metadata": {},
          "execution_count": 19
        }
      ],
      "source": [
        "joined_df[\"Actions Match\"].value_counts()"
      ]
    },
    {
      "cell_type": "code",
      "execution_count": 20,
      "metadata": {},
      "outputs": [
        {
          "output_type": "execute_result",
          "data": {
            "text/plain": [
              "1.0    12\n",
              "0.0     2\n",
              "Name: Targets Match, dtype: int64"
            ]
          },
          "metadata": {},
          "execution_count": 20
        }
      ],
      "source": [
        "joined_df[\"Targets Match\"].value_counts()"
      ]
    },
    {
      "cell_type": "code",
      "execution_count": 21,
      "metadata": {},
      "outputs": [
        {
          "output_type": "display_data",
          "data": {
            "text/plain": "<Figure size 432x288 with 1 Axes>",
            "image/svg+xml": "<?xml version=\"1.0\" encoding=\"utf-8\" standalone=\"no\"?>\n<!DOCTYPE svg PUBLIC \"-//W3C//DTD SVG 1.1//EN\"\n  \"http://www.w3.org/Graphics/SVG/1.1/DTD/svg11.dtd\">\n<!-- Created with matplotlib (https://matplotlib.org/) -->\n<svg height=\"248.518125pt\" version=\"1.1\" viewBox=\"0 0 368.925 248.518125\" width=\"368.925pt\" xmlns=\"http://www.w3.org/2000/svg\" xmlns:xlink=\"http://www.w3.org/1999/xlink\">\n <metadata>\n  <rdf:RDF xmlns:cc=\"http://creativecommons.org/ns#\" xmlns:dc=\"http://purl.org/dc/elements/1.1/\" xmlns:rdf=\"http://www.w3.org/1999/02/22-rdf-syntax-ns#\">\n   <cc:Work>\n    <dc:type rdf:resource=\"http://purl.org/dc/dcmitype/StillImage\"/>\n    <dc:date>2021-02-02T20:44:17.062813</dc:date>\n    <dc:format>image/svg+xml</dc:format>\n    <dc:creator>\n     <cc:Agent>\n      <dc:title>Matplotlib v3.3.4, https://matplotlib.org/</dc:title>\n     </cc:Agent>\n    </dc:creator>\n   </cc:Work>\n  </rdf:RDF>\n </metadata>\n <defs>\n  <style type=\"text/css\">*{stroke-linecap:butt;stroke-linejoin:round;}</style>\n </defs>\n <g id=\"figure_1\">\n  <g id=\"patch_1\">\n   <path d=\"M -0 248.518125 \nL 368.925 248.518125 \nL 368.925 0 \nL -0 0 \nz\n\" style=\"fill:none;\"/>\n  </g>\n  <g id=\"axes_1\">\n   <g id=\"patch_2\">\n    <path d=\"M 26.925 224.64 \nL 361.725 224.64 \nL 361.725 7.2 \nL 26.925 7.2 \nz\n\" style=\"fill:#ffffff;\"/>\n   </g>\n   <g id=\"patch_3\">\n    <path clip-path=\"url(#pd6ba767df3)\" d=\"M 68.775 224.64 \nL 152.475 224.64 \nL 152.475 17.554286 \nL 68.775 17.554286 \nz\n\" style=\"fill:#0099cc;\"/>\n   </g>\n   <g id=\"patch_4\">\n    <path clip-path=\"url(#pd6ba767df3)\" d=\"M 236.175 224.64 \nL 319.875 224.64 \nL 319.875 208.71033 \nL 236.175 208.71033 \nz\n\" style=\"fill:#cc0000;\"/>\n   </g>\n   <g id=\"matplotlib.axis_1\">\n    <g id=\"xtick_1\">\n     <g id=\"line2d_1\">\n      <defs>\n       <path d=\"M 0 0 \nL 0 3.5 \n\" id=\"mdc3fb93861\" style=\"stroke:#000000;stroke-width:0.8;\"/>\n      </defs>\n      <g>\n       <use style=\"stroke:#000000;stroke-width:0.8;\" x=\"110.625\" xlink:href=\"#mdc3fb93861\" y=\"224.64\"/>\n      </g>\n     </g>\n     <g id=\"text_1\">\n      <!-- Sukces -->\n      <g transform=\"translate(92.95625 239.238437)scale(0.1 -0.1)\">\n       <defs>\n        <path d=\"M 53.515625 70.515625 \nL 53.515625 60.890625 \nQ 47.90625 63.578125 42.921875 64.890625 \nQ 37.9375 66.21875 33.296875 66.21875 \nQ 25.25 66.21875 20.875 63.09375 \nQ 16.5 59.96875 16.5 54.203125 \nQ 16.5 49.359375 19.40625 46.890625 \nQ 22.3125 44.4375 30.421875 42.921875 \nL 36.375 41.703125 \nQ 47.40625 39.59375 52.65625 34.296875 \nQ 57.90625 29 57.90625 20.125 \nQ 57.90625 9.515625 50.796875 4.046875 \nQ 43.703125 -1.421875 29.984375 -1.421875 \nQ 24.8125 -1.421875 18.96875 -0.25 \nQ 13.140625 0.921875 6.890625 3.21875 \nL 6.890625 13.375 \nQ 12.890625 10.015625 18.65625 8.296875 \nQ 24.421875 6.59375 29.984375 6.59375 \nQ 38.421875 6.59375 43.015625 9.90625 \nQ 47.609375 13.234375 47.609375 19.390625 \nQ 47.609375 24.75 44.3125 27.78125 \nQ 41.015625 30.8125 33.5 32.328125 \nL 27.484375 33.5 \nQ 16.453125 35.6875 11.515625 40.375 \nQ 6.59375 45.0625 6.59375 53.421875 \nQ 6.59375 63.09375 13.40625 68.65625 \nQ 20.21875 74.21875 32.171875 74.21875 \nQ 37.3125 74.21875 42.625 73.28125 \nQ 47.953125 72.359375 53.515625 70.515625 \nz\n\" id=\"DejaVuSans-83\"/>\n        <path d=\"M 8.5 21.578125 \nL 8.5 54.6875 \nL 17.484375 54.6875 \nL 17.484375 21.921875 \nQ 17.484375 14.15625 20.5 10.265625 \nQ 23.53125 6.390625 29.59375 6.390625 \nQ 36.859375 6.390625 41.078125 11.03125 \nQ 45.3125 15.671875 45.3125 23.6875 \nL 45.3125 54.6875 \nL 54.296875 54.6875 \nL 54.296875 0 \nL 45.3125 0 \nL 45.3125 8.40625 \nQ 42.046875 3.421875 37.71875 1 \nQ 33.40625 -1.421875 27.6875 -1.421875 \nQ 18.265625 -1.421875 13.375 4.4375 \nQ 8.5 10.296875 8.5 21.578125 \nz\nM 31.109375 56 \nz\n\" id=\"DejaVuSans-117\"/>\n        <path d=\"M 9.078125 75.984375 \nL 18.109375 75.984375 \nL 18.109375 31.109375 \nL 44.921875 54.6875 \nL 56.390625 54.6875 \nL 27.390625 29.109375 \nL 57.625 0 \nL 45.90625 0 \nL 18.109375 26.703125 \nL 18.109375 0 \nL 9.078125 0 \nz\n\" id=\"DejaVuSans-107\"/>\n        <path d=\"M 48.78125 52.59375 \nL 48.78125 44.1875 \nQ 44.96875 46.296875 41.140625 47.34375 \nQ 37.3125 48.390625 33.40625 48.390625 \nQ 24.65625 48.390625 19.8125 42.84375 \nQ 14.984375 37.3125 14.984375 27.296875 \nQ 14.984375 17.28125 19.8125 11.734375 \nQ 24.65625 6.203125 33.40625 6.203125 \nQ 37.3125 6.203125 41.140625 7.25 \nQ 44.96875 8.296875 48.78125 10.40625 \nL 48.78125 2.09375 \nQ 45.015625 0.34375 40.984375 -0.53125 \nQ 36.96875 -1.421875 32.421875 -1.421875 \nQ 20.0625 -1.421875 12.78125 6.34375 \nQ 5.515625 14.109375 5.515625 27.296875 \nQ 5.515625 40.671875 12.859375 48.328125 \nQ 20.21875 56 33.015625 56 \nQ 37.15625 56 41.109375 55.140625 \nQ 45.0625 54.296875 48.78125 52.59375 \nz\n\" id=\"DejaVuSans-99\"/>\n        <path d=\"M 56.203125 29.59375 \nL 56.203125 25.203125 \nL 14.890625 25.203125 \nQ 15.484375 15.921875 20.484375 11.0625 \nQ 25.484375 6.203125 34.421875 6.203125 \nQ 39.59375 6.203125 44.453125 7.46875 \nQ 49.3125 8.734375 54.109375 11.28125 \nL 54.109375 2.78125 \nQ 49.265625 0.734375 44.1875 -0.34375 \nQ 39.109375 -1.421875 33.890625 -1.421875 \nQ 20.796875 -1.421875 13.15625 6.1875 \nQ 5.515625 13.8125 5.515625 26.8125 \nQ 5.515625 40.234375 12.765625 48.109375 \nQ 20.015625 56 32.328125 56 \nQ 43.359375 56 49.78125 48.890625 \nQ 56.203125 41.796875 56.203125 29.59375 \nz\nM 47.21875 32.234375 \nQ 47.125 39.59375 43.09375 43.984375 \nQ 39.0625 48.390625 32.421875 48.390625 \nQ 24.90625 48.390625 20.390625 44.140625 \nQ 15.875 39.890625 15.1875 32.171875 \nz\n\" id=\"DejaVuSans-101\"/>\n        <path d=\"M 44.28125 53.078125 \nL 44.28125 44.578125 \nQ 40.484375 46.53125 36.375 47.5 \nQ 32.28125 48.484375 27.875 48.484375 \nQ 21.1875 48.484375 17.84375 46.4375 \nQ 14.5 44.390625 14.5 40.28125 \nQ 14.5 37.15625 16.890625 35.375 \nQ 19.28125 33.59375 26.515625 31.984375 \nL 29.59375 31.296875 \nQ 39.15625 29.25 43.1875 25.515625 \nQ 47.21875 21.78125 47.21875 15.09375 \nQ 47.21875 7.46875 41.1875 3.015625 \nQ 35.15625 -1.421875 24.609375 -1.421875 \nQ 20.21875 -1.421875 15.453125 -0.5625 \nQ 10.6875 0.296875 5.421875 2 \nL 5.421875 11.28125 \nQ 10.40625 8.6875 15.234375 7.390625 \nQ 20.0625 6.109375 24.8125 6.109375 \nQ 31.15625 6.109375 34.5625 8.28125 \nQ 37.984375 10.453125 37.984375 14.40625 \nQ 37.984375 18.0625 35.515625 20.015625 \nQ 33.0625 21.96875 24.703125 23.78125 \nL 21.578125 24.515625 \nQ 13.234375 26.265625 9.515625 29.90625 \nQ 5.8125 33.546875 5.8125 39.890625 \nQ 5.8125 47.609375 11.28125 51.796875 \nQ 16.75 56 26.8125 56 \nQ 31.78125 56 36.171875 55.265625 \nQ 40.578125 54.546875 44.28125 53.078125 \nz\n\" id=\"DejaVuSans-115\"/>\n       </defs>\n       <use xlink:href=\"#DejaVuSans-83\"/>\n       <use x=\"63.476562\" xlink:href=\"#DejaVuSans-117\"/>\n       <use x=\"126.855469\" xlink:href=\"#DejaVuSans-107\"/>\n       <use x=\"184.765625\" xlink:href=\"#DejaVuSans-99\"/>\n       <use x=\"239.746094\" xlink:href=\"#DejaVuSans-101\"/>\n       <use x=\"301.269531\" xlink:href=\"#DejaVuSans-115\"/>\n      </g>\n     </g>\n    </g>\n    <g id=\"xtick_2\">\n     <g id=\"line2d_2\">\n      <g>\n       <use style=\"stroke:#000000;stroke-width:0.8;\" x=\"278.025\" xlink:href=\"#mdc3fb93861\" y=\"224.64\"/>\n      </g>\n     </g>\n     <g id=\"text_2\">\n      <!-- Porażka -->\n      <g transform=\"translate(258.516406 239.238437)scale(0.1 -0.1)\">\n       <defs>\n        <path d=\"M 19.671875 64.796875 \nL 19.671875 37.40625 \nL 32.078125 37.40625 \nQ 38.96875 37.40625 42.71875 40.96875 \nQ 46.484375 44.53125 46.484375 51.125 \nQ 46.484375 57.671875 42.71875 61.234375 \nQ 38.96875 64.796875 32.078125 64.796875 \nz\nM 9.8125 72.90625 \nL 32.078125 72.90625 \nQ 44.34375 72.90625 50.609375 67.359375 \nQ 56.890625 61.8125 56.890625 51.125 \nQ 56.890625 40.328125 50.609375 34.8125 \nQ 44.34375 29.296875 32.078125 29.296875 \nL 19.671875 29.296875 \nL 19.671875 0 \nL 9.8125 0 \nz\n\" id=\"DejaVuSans-80\"/>\n        <path d=\"M 30.609375 48.390625 \nQ 23.390625 48.390625 19.1875 42.75 \nQ 14.984375 37.109375 14.984375 27.296875 \nQ 14.984375 17.484375 19.15625 11.84375 \nQ 23.34375 6.203125 30.609375 6.203125 \nQ 37.796875 6.203125 41.984375 11.859375 \nQ 46.1875 17.53125 46.1875 27.296875 \nQ 46.1875 37.015625 41.984375 42.703125 \nQ 37.796875 48.390625 30.609375 48.390625 \nz\nM 30.609375 56 \nQ 42.328125 56 49.015625 48.375 \nQ 55.71875 40.765625 55.71875 27.296875 \nQ 55.71875 13.875 49.015625 6.21875 \nQ 42.328125 -1.421875 30.609375 -1.421875 \nQ 18.84375 -1.421875 12.171875 6.21875 \nQ 5.515625 13.875 5.515625 27.296875 \nQ 5.515625 40.765625 12.171875 48.375 \nQ 18.84375 56 30.609375 56 \nz\n\" id=\"DejaVuSans-111\"/>\n        <path d=\"M 41.109375 46.296875 \nQ 39.59375 47.171875 37.8125 47.578125 \nQ 36.03125 48 33.890625 48 \nQ 26.265625 48 22.1875 43.046875 \nQ 18.109375 38.09375 18.109375 28.8125 \nL 18.109375 0 \nL 9.078125 0 \nL 9.078125 54.6875 \nL 18.109375 54.6875 \nL 18.109375 46.1875 \nQ 20.953125 51.171875 25.484375 53.578125 \nQ 30.03125 56 36.53125 56 \nQ 37.453125 56 38.578125 55.875 \nQ 39.703125 55.765625 41.0625 55.515625 \nz\n\" id=\"DejaVuSans-114\"/>\n        <path d=\"M 34.28125 27.484375 \nQ 23.390625 27.484375 19.1875 25 \nQ 14.984375 22.515625 14.984375 16.5 \nQ 14.984375 11.71875 18.140625 8.90625 \nQ 21.296875 6.109375 26.703125 6.109375 \nQ 34.1875 6.109375 38.703125 11.40625 \nQ 43.21875 16.703125 43.21875 25.484375 \nL 43.21875 27.484375 \nz\nM 52.203125 31.203125 \nL 52.203125 0 \nL 43.21875 0 \nL 43.21875 8.296875 \nQ 40.140625 3.328125 35.546875 0.953125 \nQ 30.953125 -1.421875 24.3125 -1.421875 \nQ 15.921875 -1.421875 10.953125 3.296875 \nQ 6 8.015625 6 15.921875 \nQ 6 25.140625 12.171875 29.828125 \nQ 18.359375 34.515625 30.609375 34.515625 \nL 43.21875 34.515625 \nL 43.21875 35.40625 \nQ 43.21875 41.609375 39.140625 45 \nQ 35.0625 48.390625 27.6875 48.390625 \nQ 23 48.390625 18.546875 47.265625 \nQ 14.109375 46.140625 10.015625 43.890625 \nL 10.015625 52.203125 \nQ 14.9375 54.109375 19.578125 55.046875 \nQ 24.21875 56 28.609375 56 \nQ 40.484375 56 46.34375 49.84375 \nQ 52.203125 43.703125 52.203125 31.203125 \nz\n\" id=\"DejaVuSans-97\"/>\n        <path d=\"M 21.53125 75.984375 \nL 30.515625 75.984375 \nL 30.515625 64.59375 \nL 21.53125 64.59375 \nz\nM 26.125 56 \nz\nM 5.515625 54.6875 \nL 48.1875 54.6875 \nL 48.1875 46.484375 \nL 14.40625 7.171875 \nL 48.1875 7.171875 \nL 48.1875 0 \nL 4.296875 0 \nL 4.296875 8.203125 \nL 38.09375 47.515625 \nL 5.515625 47.515625 \nz\n\" id=\"DejaVuSans-380\"/>\n       </defs>\n       <use xlink:href=\"#DejaVuSans-80\"/>\n       <use x=\"56.677734\" xlink:href=\"#DejaVuSans-111\"/>\n       <use x=\"117.859375\" xlink:href=\"#DejaVuSans-114\"/>\n       <use x=\"158.972656\" xlink:href=\"#DejaVuSans-97\"/>\n       <use x=\"220.251953\" xlink:href=\"#DejaVuSans-380\"/>\n       <use x=\"272.742188\" xlink:href=\"#DejaVuSans-107\"/>\n       <use x=\"328.902344\" xlink:href=\"#DejaVuSans-97\"/>\n      </g>\n     </g>\n    </g>\n   </g>\n   <g id=\"matplotlib.axis_2\">\n    <g id=\"ytick_1\">\n     <g id=\"line2d_3\">\n      <defs>\n       <path d=\"M 0 0 \nL -3.5 0 \n\" id=\"m3f312882e5\" style=\"stroke:#000000;stroke-width:0.8;\"/>\n      </defs>\n      <g>\n       <use style=\"stroke:#000000;stroke-width:0.8;\" x=\"26.925\" xlink:href=\"#m3f312882e5\" y=\"224.64\"/>\n      </g>\n     </g>\n     <g id=\"text_3\">\n      <!-- 0 -->\n      <g transform=\"translate(13.5625 228.439219)scale(0.1 -0.1)\">\n       <defs>\n        <path d=\"M 31.78125 66.40625 \nQ 24.171875 66.40625 20.328125 58.90625 \nQ 16.5 51.421875 16.5 36.375 \nQ 16.5 21.390625 20.328125 13.890625 \nQ 24.171875 6.390625 31.78125 6.390625 \nQ 39.453125 6.390625 43.28125 13.890625 \nQ 47.125 21.390625 47.125 36.375 \nQ 47.125 51.421875 43.28125 58.90625 \nQ 39.453125 66.40625 31.78125 66.40625 \nz\nM 31.78125 74.21875 \nQ 44.046875 74.21875 50.515625 64.515625 \nQ 56.984375 54.828125 56.984375 36.375 \nQ 56.984375 17.96875 50.515625 8.265625 \nQ 44.046875 -1.421875 31.78125 -1.421875 \nQ 19.53125 -1.421875 13.0625 8.265625 \nQ 6.59375 17.96875 6.59375 36.375 \nQ 6.59375 54.828125 13.0625 64.515625 \nQ 19.53125 74.21875 31.78125 74.21875 \nz\n\" id=\"DejaVuSans-48\"/>\n       </defs>\n       <use xlink:href=\"#DejaVuSans-48\"/>\n      </g>\n     </g>\n    </g>\n    <g id=\"ytick_2\">\n     <g id=\"line2d_4\">\n      <g>\n       <use style=\"stroke:#000000;stroke-width:0.8;\" x=\"26.925\" xlink:href=\"#m3f312882e5\" y=\"192.780659\"/>\n      </g>\n     </g>\n     <g id=\"text_4\">\n      <!-- 2 -->\n      <g transform=\"translate(13.5625 196.579878)scale(0.1 -0.1)\">\n       <defs>\n        <path d=\"M 19.1875 8.296875 \nL 53.609375 8.296875 \nL 53.609375 0 \nL 7.328125 0 \nL 7.328125 8.296875 \nQ 12.9375 14.109375 22.625 23.890625 \nQ 32.328125 33.6875 34.8125 36.53125 \nQ 39.546875 41.84375 41.421875 45.53125 \nQ 43.3125 49.21875 43.3125 52.78125 \nQ 43.3125 58.59375 39.234375 62.25 \nQ 35.15625 65.921875 28.609375 65.921875 \nQ 23.96875 65.921875 18.8125 64.3125 \nQ 13.671875 62.703125 7.8125 59.421875 \nL 7.8125 69.390625 \nQ 13.765625 71.78125 18.9375 73 \nQ 24.125 74.21875 28.421875 74.21875 \nQ 39.75 74.21875 46.484375 68.546875 \nQ 53.21875 62.890625 53.21875 53.421875 \nQ 53.21875 48.921875 51.53125 44.890625 \nQ 49.859375 40.875 45.40625 35.40625 \nQ 44.1875 33.984375 37.640625 27.21875 \nQ 31.109375 20.453125 19.1875 8.296875 \nz\n\" id=\"DejaVuSans-50\"/>\n       </defs>\n       <use xlink:href=\"#DejaVuSans-50\"/>\n      </g>\n     </g>\n    </g>\n    <g id=\"ytick_3\">\n     <g id=\"line2d_5\">\n      <g>\n       <use style=\"stroke:#000000;stroke-width:0.8;\" x=\"26.925\" xlink:href=\"#m3f312882e5\" y=\"160.921319\"/>\n      </g>\n     </g>\n     <g id=\"text_5\">\n      <!-- 4 -->\n      <g transform=\"translate(13.5625 164.720537)scale(0.1 -0.1)\">\n       <defs>\n        <path d=\"M 37.796875 64.3125 \nL 12.890625 25.390625 \nL 37.796875 25.390625 \nz\nM 35.203125 72.90625 \nL 47.609375 72.90625 \nL 47.609375 25.390625 \nL 58.015625 25.390625 \nL 58.015625 17.1875 \nL 47.609375 17.1875 \nL 47.609375 0 \nL 37.796875 0 \nL 37.796875 17.1875 \nL 4.890625 17.1875 \nL 4.890625 26.703125 \nz\n\" id=\"DejaVuSans-52\"/>\n       </defs>\n       <use xlink:href=\"#DejaVuSans-52\"/>\n      </g>\n     </g>\n    </g>\n    <g id=\"ytick_4\">\n     <g id=\"line2d_6\">\n      <g>\n       <use style=\"stroke:#000000;stroke-width:0.8;\" x=\"26.925\" xlink:href=\"#m3f312882e5\" y=\"129.061978\"/>\n      </g>\n     </g>\n     <g id=\"text_6\">\n      <!-- 6 -->\n      <g transform=\"translate(13.5625 132.861197)scale(0.1 -0.1)\">\n       <defs>\n        <path d=\"M 33.015625 40.375 \nQ 26.375 40.375 22.484375 35.828125 \nQ 18.609375 31.296875 18.609375 23.390625 \nQ 18.609375 15.53125 22.484375 10.953125 \nQ 26.375 6.390625 33.015625 6.390625 \nQ 39.65625 6.390625 43.53125 10.953125 \nQ 47.40625 15.53125 47.40625 23.390625 \nQ 47.40625 31.296875 43.53125 35.828125 \nQ 39.65625 40.375 33.015625 40.375 \nz\nM 52.59375 71.296875 \nL 52.59375 62.3125 \nQ 48.875 64.0625 45.09375 64.984375 \nQ 41.3125 65.921875 37.59375 65.921875 \nQ 27.828125 65.921875 22.671875 59.328125 \nQ 17.53125 52.734375 16.796875 39.40625 \nQ 19.671875 43.65625 24.015625 45.921875 \nQ 28.375 48.1875 33.59375 48.1875 \nQ 44.578125 48.1875 50.953125 41.515625 \nQ 57.328125 34.859375 57.328125 23.390625 \nQ 57.328125 12.15625 50.6875 5.359375 \nQ 44.046875 -1.421875 33.015625 -1.421875 \nQ 20.359375 -1.421875 13.671875 8.265625 \nQ 6.984375 17.96875 6.984375 36.375 \nQ 6.984375 53.65625 15.1875 63.9375 \nQ 23.390625 74.21875 37.203125 74.21875 \nQ 40.921875 74.21875 44.703125 73.484375 \nQ 48.484375 72.75 52.59375 71.296875 \nz\n\" id=\"DejaVuSans-54\"/>\n       </defs>\n       <use xlink:href=\"#DejaVuSans-54\"/>\n      </g>\n     </g>\n    </g>\n    <g id=\"ytick_5\">\n     <g id=\"line2d_7\">\n      <g>\n       <use style=\"stroke:#000000;stroke-width:0.8;\" x=\"26.925\" xlink:href=\"#m3f312882e5\" y=\"97.202637\"/>\n      </g>\n     </g>\n     <g id=\"text_7\">\n      <!-- 8 -->\n      <g transform=\"translate(13.5625 101.001856)scale(0.1 -0.1)\">\n       <defs>\n        <path d=\"M 31.78125 34.625 \nQ 24.75 34.625 20.71875 30.859375 \nQ 16.703125 27.09375 16.703125 20.515625 \nQ 16.703125 13.921875 20.71875 10.15625 \nQ 24.75 6.390625 31.78125 6.390625 \nQ 38.8125 6.390625 42.859375 10.171875 \nQ 46.921875 13.96875 46.921875 20.515625 \nQ 46.921875 27.09375 42.890625 30.859375 \nQ 38.875 34.625 31.78125 34.625 \nz\nM 21.921875 38.8125 \nQ 15.578125 40.375 12.03125 44.71875 \nQ 8.5 49.078125 8.5 55.328125 \nQ 8.5 64.0625 14.71875 69.140625 \nQ 20.953125 74.21875 31.78125 74.21875 \nQ 42.671875 74.21875 48.875 69.140625 \nQ 55.078125 64.0625 55.078125 55.328125 \nQ 55.078125 49.078125 51.53125 44.71875 \nQ 48 40.375 41.703125 38.8125 \nQ 48.828125 37.15625 52.796875 32.3125 \nQ 56.78125 27.484375 56.78125 20.515625 \nQ 56.78125 9.90625 50.3125 4.234375 \nQ 43.84375 -1.421875 31.78125 -1.421875 \nQ 19.734375 -1.421875 13.25 4.234375 \nQ 6.78125 9.90625 6.78125 20.515625 \nQ 6.78125 27.484375 10.78125 32.3125 \nQ 14.796875 37.15625 21.921875 38.8125 \nz\nM 18.3125 54.390625 \nQ 18.3125 48.734375 21.84375 45.5625 \nQ 25.390625 42.390625 31.78125 42.390625 \nQ 38.140625 42.390625 41.71875 45.5625 \nQ 45.3125 48.734375 45.3125 54.390625 \nQ 45.3125 60.0625 41.71875 63.234375 \nQ 38.140625 66.40625 31.78125 66.40625 \nQ 25.390625 66.40625 21.84375 63.234375 \nQ 18.3125 60.0625 18.3125 54.390625 \nz\n\" id=\"DejaVuSans-56\"/>\n       </defs>\n       <use xlink:href=\"#DejaVuSans-56\"/>\n      </g>\n     </g>\n    </g>\n    <g id=\"ytick_6\">\n     <g id=\"line2d_8\">\n      <g>\n       <use style=\"stroke:#000000;stroke-width:0.8;\" x=\"26.925\" xlink:href=\"#m3f312882e5\" y=\"65.343297\"/>\n      </g>\n     </g>\n     <g id=\"text_8\">\n      <!-- 10 -->\n      <g transform=\"translate(7.2 69.142515)scale(0.1 -0.1)\">\n       <defs>\n        <path d=\"M 12.40625 8.296875 \nL 28.515625 8.296875 \nL 28.515625 63.921875 \nL 10.984375 60.40625 \nL 10.984375 69.390625 \nL 28.421875 72.90625 \nL 38.28125 72.90625 \nL 38.28125 8.296875 \nL 54.390625 8.296875 \nL 54.390625 0 \nL 12.40625 0 \nz\n\" id=\"DejaVuSans-49\"/>\n       </defs>\n       <use xlink:href=\"#DejaVuSans-49\"/>\n       <use x=\"63.623047\" xlink:href=\"#DejaVuSans-48\"/>\n      </g>\n     </g>\n    </g>\n    <g id=\"ytick_7\">\n     <g id=\"line2d_9\">\n      <g>\n       <use style=\"stroke:#000000;stroke-width:0.8;\" x=\"26.925\" xlink:href=\"#m3f312882e5\" y=\"33.483956\"/>\n      </g>\n     </g>\n     <g id=\"text_9\">\n      <!-- 12 -->\n      <g transform=\"translate(7.2 37.283175)scale(0.1 -0.1)\">\n       <use xlink:href=\"#DejaVuSans-49\"/>\n       <use x=\"63.623047\" xlink:href=\"#DejaVuSans-50\"/>\n      </g>\n     </g>\n    </g>\n   </g>\n   <g id=\"patch_5\">\n    <path d=\"M 26.925 224.64 \nL 26.925 7.2 \n\" style=\"fill:none;stroke:#000000;stroke-linecap:square;stroke-linejoin:miter;stroke-width:0.8;\"/>\n   </g>\n   <g id=\"patch_6\">\n    <path d=\"M 361.725 224.64 \nL 361.725 7.2 \n\" style=\"fill:none;stroke:#000000;stroke-linecap:square;stroke-linejoin:miter;stroke-width:0.8;\"/>\n   </g>\n   <g id=\"patch_7\">\n    <path d=\"M 26.925 224.64 \nL 361.725 224.64 \n\" style=\"fill:none;stroke:#000000;stroke-linecap:square;stroke-linejoin:miter;stroke-width:0.8;\"/>\n   </g>\n   <g id=\"patch_8\">\n    <path d=\"M 26.925 7.2 \nL 361.725 7.2 \n\" style=\"fill:none;stroke:#000000;stroke-linecap:square;stroke-linejoin:miter;stroke-width:0.8;\"/>\n   </g>\n  </g>\n </g>\n <defs>\n  <clipPath id=\"pd6ba767df3\">\n   <rect height=\"217.44\" width=\"334.8\" x=\"26.925\" y=\"7.2\"/>\n  </clipPath>\n </defs>\n</svg>\n",
            "image/png": "[encoded data removed]"
          },
          "metadata": {
            "needs_background": "light"
          }
        }
      ],
      "source": [
        "joined_df[\"Actions Match\"].value_counts().plot(kind=\"bar\", color=[\"#0099CC\", \"#CC0000\"])\n",
        "plt.xticks(np.arange(0, 1, step=1))\n",
        "plt.xticks(np.arange(2), ('Sukces', 'Porażka'))\n",
        "plt.xticks(np.arange(2), rotation = 0)\n",
        "plt.show()"
      ]
    },
    {
      "cell_type": "code",
      "execution_count": 22,
      "metadata": {},
      "outputs": [
        {
          "output_type": "display_data",
          "data": {
            "text/plain": "<Figure size 432x288 with 1 Axes>",
            "image/svg+xml": "<?xml version=\"1.0\" encoding=\"utf-8\" standalone=\"no\"?>\n<!DOCTYPE svg PUBLIC \"-//W3C//DTD SVG 1.1//EN\"\n  \"http://www.w3.org/Graphics/SVG/1.1/DTD/svg11.dtd\">\n<!-- Created with matplotlib (https://matplotlib.org/) -->\n<svg height=\"248.518125pt\" version=\"1.1\" viewBox=\"0 0 368.925 248.518125\" width=\"368.925pt\" xmlns=\"http://www.w3.org/2000/svg\" xmlns:xlink=\"http://www.w3.org/1999/xlink\">\n <metadata>\n  <rdf:RDF xmlns:cc=\"http://creativecommons.org/ns#\" xmlns:dc=\"http://purl.org/dc/elements/1.1/\" xmlns:rdf=\"http://www.w3.org/1999/02/22-rdf-syntax-ns#\">\n   <cc:Work>\n    <dc:type rdf:resource=\"http://purl.org/dc/dcmitype/StillImage\"/>\n    <dc:date>2021-02-02T20:44:19.987116</dc:date>\n    <dc:format>image/svg+xml</dc:format>\n    <dc:creator>\n     <cc:Agent>\n      <dc:title>Matplotlib v3.3.4, https://matplotlib.org/</dc:title>\n     </cc:Agent>\n    </dc:creator>\n   </cc:Work>\n  </rdf:RDF>\n </metadata>\n <defs>\n  <style type=\"text/css\">*{stroke-linecap:butt;stroke-linejoin:round;}</style>\n </defs>\n <g id=\"figure_1\">\n  <g id=\"patch_1\">\n   <path d=\"M -0 248.518125 \nL 368.925 248.518125 \nL 368.925 0 \nL -0 0 \nz\n\" style=\"fill:none;\"/>\n  </g>\n  <g id=\"axes_1\">\n   <g id=\"patch_2\">\n    <path d=\"M 26.925 224.64 \nL 361.725 224.64 \nL 361.725 7.2 \nL 26.925 7.2 \nz\n\" style=\"fill:#ffffff;\"/>\n   </g>\n   <g id=\"patch_3\">\n    <path clip-path=\"url(#p178c2cce08)\" d=\"M 68.775 224.64 \nL 152.475 224.64 \nL 152.475 17.554286 \nL 68.775 17.554286 \nz\n\" style=\"fill:#0099cc;\"/>\n   </g>\n   <g id=\"patch_4\">\n    <path clip-path=\"url(#p178c2cce08)\" d=\"M 236.175 224.64 \nL 319.875 224.64 \nL 319.875 190.125714 \nL 236.175 190.125714 \nz\n\" style=\"fill:#cc0000;\"/>\n   </g>\n   <g id=\"matplotlib.axis_1\">\n    <g id=\"xtick_1\">\n     <g id=\"line2d_1\">\n      <defs>\n       <path d=\"M 0 0 \nL 0 3.5 \n\" id=\"m10fd56b3c1\" style=\"stroke:#000000;stroke-width:0.8;\"/>\n      </defs>\n      <g>\n       <use style=\"stroke:#000000;stroke-width:0.8;\" x=\"110.625\" xlink:href=\"#m10fd56b3c1\" y=\"224.64\"/>\n      </g>\n     </g>\n     <g id=\"text_1\">\n      <!-- Sukces -->\n      <g transform=\"translate(92.95625 239.238437)scale(0.1 -0.1)\">\n       <defs>\n        <path d=\"M 53.515625 70.515625 \nL 53.515625 60.890625 \nQ 47.90625 63.578125 42.921875 64.890625 \nQ 37.9375 66.21875 33.296875 66.21875 \nQ 25.25 66.21875 20.875 63.09375 \nQ 16.5 59.96875 16.5 54.203125 \nQ 16.5 49.359375 19.40625 46.890625 \nQ 22.3125 44.4375 30.421875 42.921875 \nL 36.375 41.703125 \nQ 47.40625 39.59375 52.65625 34.296875 \nQ 57.90625 29 57.90625 20.125 \nQ 57.90625 9.515625 50.796875 4.046875 \nQ 43.703125 -1.421875 29.984375 -1.421875 \nQ 24.8125 -1.421875 18.96875 -0.25 \nQ 13.140625 0.921875 6.890625 3.21875 \nL 6.890625 13.375 \nQ 12.890625 10.015625 18.65625 8.296875 \nQ 24.421875 6.59375 29.984375 6.59375 \nQ 38.421875 6.59375 43.015625 9.90625 \nQ 47.609375 13.234375 47.609375 19.390625 \nQ 47.609375 24.75 44.3125 27.78125 \nQ 41.015625 30.8125 33.5 32.328125 \nL 27.484375 33.5 \nQ 16.453125 35.6875 11.515625 40.375 \nQ 6.59375 45.0625 6.59375 53.421875 \nQ 6.59375 63.09375 13.40625 68.65625 \nQ 20.21875 74.21875 32.171875 74.21875 \nQ 37.3125 74.21875 42.625 73.28125 \nQ 47.953125 72.359375 53.515625 70.515625 \nz\n\" id=\"DejaVuSans-83\"/>\n        <path d=\"M 8.5 21.578125 \nL 8.5 54.6875 \nL 17.484375 54.6875 \nL 17.484375 21.921875 \nQ 17.484375 14.15625 20.5 10.265625 \nQ 23.53125 6.390625 29.59375 6.390625 \nQ 36.859375 6.390625 41.078125 11.03125 \nQ 45.3125 15.671875 45.3125 23.6875 \nL 45.3125 54.6875 \nL 54.296875 54.6875 \nL 54.296875 0 \nL 45.3125 0 \nL 45.3125 8.40625 \nQ 42.046875 3.421875 37.71875 1 \nQ 33.40625 -1.421875 27.6875 -1.421875 \nQ 18.265625 -1.421875 13.375 4.4375 \nQ 8.5 10.296875 8.5 21.578125 \nz\nM 31.109375 56 \nz\n\" id=\"DejaVuSans-117\"/>\n        <path d=\"M 9.078125 75.984375 \nL 18.109375 75.984375 \nL 18.109375 31.109375 \nL 44.921875 54.6875 \nL 56.390625 54.6875 \nL 27.390625 29.109375 \nL 57.625 0 \nL 45.90625 0 \nL 18.109375 26.703125 \nL 18.109375 0 \nL 9.078125 0 \nz\n\" id=\"DejaVuSans-107\"/>\n        <path d=\"M 48.78125 52.59375 \nL 48.78125 44.1875 \nQ 44.96875 46.296875 41.140625 47.34375 \nQ 37.3125 48.390625 33.40625 48.390625 \nQ 24.65625 48.390625 19.8125 42.84375 \nQ 14.984375 37.3125 14.984375 27.296875 \nQ 14.984375 17.28125 19.8125 11.734375 \nQ 24.65625 6.203125 33.40625 6.203125 \nQ 37.3125 6.203125 41.140625 7.25 \nQ 44.96875 8.296875 48.78125 10.40625 \nL 48.78125 2.09375 \nQ 45.015625 0.34375 40.984375 -0.53125 \nQ 36.96875 -1.421875 32.421875 -1.421875 \nQ 20.0625 -1.421875 12.78125 6.34375 \nQ 5.515625 14.109375 5.515625 27.296875 \nQ 5.515625 40.671875 12.859375 48.328125 \nQ 20.21875 56 33.015625 56 \nQ 37.15625 56 41.109375 55.140625 \nQ 45.0625 54.296875 48.78125 52.59375 \nz\n\" id=\"DejaVuSans-99\"/>\n        <path d=\"M 56.203125 29.59375 \nL 56.203125 25.203125 \nL 14.890625 25.203125 \nQ 15.484375 15.921875 20.484375 11.0625 \nQ 25.484375 6.203125 34.421875 6.203125 \nQ 39.59375 6.203125 44.453125 7.46875 \nQ 49.3125 8.734375 54.109375 11.28125 \nL 54.109375 2.78125 \nQ 49.265625 0.734375 44.1875 -0.34375 \nQ 39.109375 -1.421875 33.890625 -1.421875 \nQ 20.796875 -1.421875 13.15625 6.1875 \nQ 5.515625 13.8125 5.515625 26.8125 \nQ 5.515625 40.234375 12.765625 48.109375 \nQ 20.015625 56 32.328125 56 \nQ 43.359375 56 49.78125 48.890625 \nQ 56.203125 41.796875 56.203125 29.59375 \nz\nM 47.21875 32.234375 \nQ 47.125 39.59375 43.09375 43.984375 \nQ 39.0625 48.390625 32.421875 48.390625 \nQ 24.90625 48.390625 20.390625 44.140625 \nQ 15.875 39.890625 15.1875 32.171875 \nz\n\" id=\"DejaVuSans-101\"/>\n        <path d=\"M 44.28125 53.078125 \nL 44.28125 44.578125 \nQ 40.484375 46.53125 36.375 47.5 \nQ 32.28125 48.484375 27.875 48.484375 \nQ 21.1875 48.484375 17.84375 46.4375 \nQ 14.5 44.390625 14.5 40.28125 \nQ 14.5 37.15625 16.890625 35.375 \nQ 19.28125 33.59375 26.515625 31.984375 \nL 29.59375 31.296875 \nQ 39.15625 29.25 43.1875 25.515625 \nQ 47.21875 21.78125 47.21875 15.09375 \nQ 47.21875 7.46875 41.1875 3.015625 \nQ 35.15625 -1.421875 24.609375 -1.421875 \nQ 20.21875 -1.421875 15.453125 -0.5625 \nQ 10.6875 0.296875 5.421875 2 \nL 5.421875 11.28125 \nQ 10.40625 8.6875 15.234375 7.390625 \nQ 20.0625 6.109375 24.8125 6.109375 \nQ 31.15625 6.109375 34.5625 8.28125 \nQ 37.984375 10.453125 37.984375 14.40625 \nQ 37.984375 18.0625 35.515625 20.015625 \nQ 33.0625 21.96875 24.703125 23.78125 \nL 21.578125 24.515625 \nQ 13.234375 26.265625 9.515625 29.90625 \nQ 5.8125 33.546875 5.8125 39.890625 \nQ 5.8125 47.609375 11.28125 51.796875 \nQ 16.75 56 26.8125 56 \nQ 31.78125 56 36.171875 55.265625 \nQ 40.578125 54.546875 44.28125 53.078125 \nz\n\" id=\"DejaVuSans-115\"/>\n       </defs>\n       <use xlink:href=\"#DejaVuSans-83\"/>\n       <use x=\"63.476562\" xlink:href=\"#DejaVuSans-117\"/>\n       <use x=\"126.855469\" xlink:href=\"#DejaVuSans-107\"/>\n       <use x=\"184.765625\" xlink:href=\"#DejaVuSans-99\"/>\n       <use x=\"239.746094\" xlink:href=\"#DejaVuSans-101\"/>\n       <use x=\"301.269531\" xlink:href=\"#DejaVuSans-115\"/>\n      </g>\n     </g>\n    </g>\n    <g id=\"xtick_2\">\n     <g id=\"line2d_2\">\n      <g>\n       <use style=\"stroke:#000000;stroke-width:0.8;\" x=\"278.025\" xlink:href=\"#m10fd56b3c1\" y=\"224.64\"/>\n      </g>\n     </g>\n     <g id=\"text_2\">\n      <!-- Porażka -->\n      <g transform=\"translate(258.516406 239.238437)scale(0.1 -0.1)\">\n       <defs>\n        <path d=\"M 19.671875 64.796875 \nL 19.671875 37.40625 \nL 32.078125 37.40625 \nQ 38.96875 37.40625 42.71875 40.96875 \nQ 46.484375 44.53125 46.484375 51.125 \nQ 46.484375 57.671875 42.71875 61.234375 \nQ 38.96875 64.796875 32.078125 64.796875 \nz\nM 9.8125 72.90625 \nL 32.078125 72.90625 \nQ 44.34375 72.90625 50.609375 67.359375 \nQ 56.890625 61.8125 56.890625 51.125 \nQ 56.890625 40.328125 50.609375 34.8125 \nQ 44.34375 29.296875 32.078125 29.296875 \nL 19.671875 29.296875 \nL 19.671875 0 \nL 9.8125 0 \nz\n\" id=\"DejaVuSans-80\"/>\n        <path d=\"M 30.609375 48.390625 \nQ 23.390625 48.390625 19.1875 42.75 \nQ 14.984375 37.109375 14.984375 27.296875 \nQ 14.984375 17.484375 19.15625 11.84375 \nQ 23.34375 6.203125 30.609375 6.203125 \nQ 37.796875 6.203125 41.984375 11.859375 \nQ 46.1875 17.53125 46.1875 27.296875 \nQ 46.1875 37.015625 41.984375 42.703125 \nQ 37.796875 48.390625 30.609375 48.390625 \nz\nM 30.609375 56 \nQ 42.328125 56 49.015625 48.375 \nQ 55.71875 40.765625 55.71875 27.296875 \nQ 55.71875 13.875 49.015625 6.21875 \nQ 42.328125 -1.421875 30.609375 -1.421875 \nQ 18.84375 -1.421875 12.171875 6.21875 \nQ 5.515625 13.875 5.515625 27.296875 \nQ 5.515625 40.765625 12.171875 48.375 \nQ 18.84375 56 30.609375 56 \nz\n\" id=\"DejaVuSans-111\"/>\n        <path d=\"M 41.109375 46.296875 \nQ 39.59375 47.171875 37.8125 47.578125 \nQ 36.03125 48 33.890625 48 \nQ 26.265625 48 22.1875 43.046875 \nQ 18.109375 38.09375 18.109375 28.8125 \nL 18.109375 0 \nL 9.078125 0 \nL 9.078125 54.6875 \nL 18.109375 54.6875 \nL 18.109375 46.1875 \nQ 20.953125 51.171875 25.484375 53.578125 \nQ 30.03125 56 36.53125 56 \nQ 37.453125 56 38.578125 55.875 \nQ 39.703125 55.765625 41.0625 55.515625 \nz\n\" id=\"DejaVuSans-114\"/>\n        <path d=\"M 34.28125 27.484375 \nQ 23.390625 27.484375 19.1875 25 \nQ 14.984375 22.515625 14.984375 16.5 \nQ 14.984375 11.71875 18.140625 8.90625 \nQ 21.296875 6.109375 26.703125 6.109375 \nQ 34.1875 6.109375 38.703125 11.40625 \nQ 43.21875 16.703125 43.21875 25.484375 \nL 43.21875 27.484375 \nz\nM 52.203125 31.203125 \nL 52.203125 0 \nL 43.21875 0 \nL 43.21875 8.296875 \nQ 40.140625 3.328125 35.546875 0.953125 \nQ 30.953125 -1.421875 24.3125 -1.421875 \nQ 15.921875 -1.421875 10.953125 3.296875 \nQ 6 8.015625 6 15.921875 \nQ 6 25.140625 12.171875 29.828125 \nQ 18.359375 34.515625 30.609375 34.515625 \nL 43.21875 34.515625 \nL 43.21875 35.40625 \nQ 43.21875 41.609375 39.140625 45 \nQ 35.0625 48.390625 27.6875 48.390625 \nQ 23 48.390625 18.546875 47.265625 \nQ 14.109375 46.140625 10.015625 43.890625 \nL 10.015625 52.203125 \nQ 14.9375 54.109375 19.578125 55.046875 \nQ 24.21875 56 28.609375 56 \nQ 40.484375 56 46.34375 49.84375 \nQ 52.203125 43.703125 52.203125 31.203125 \nz\n\" id=\"DejaVuSans-97\"/>\n        <path d=\"M 21.53125 75.984375 \nL 30.515625 75.984375 \nL 30.515625 64.59375 \nL 21.53125 64.59375 \nz\nM 26.125 56 \nz\nM 5.515625 54.6875 \nL 48.1875 54.6875 \nL 48.1875 46.484375 \nL 14.40625 7.171875 \nL 48.1875 7.171875 \nL 48.1875 0 \nL 4.296875 0 \nL 4.296875 8.203125 \nL 38.09375 47.515625 \nL 5.515625 47.515625 \nz\n\" id=\"DejaVuSans-380\"/>\n       </defs>\n       <use xlink:href=\"#DejaVuSans-80\"/>\n       <use x=\"56.677734\" xlink:href=\"#DejaVuSans-111\"/>\n       <use x=\"117.859375\" xlink:href=\"#DejaVuSans-114\"/>\n       <use x=\"158.972656\" xlink:href=\"#DejaVuSans-97\"/>\n       <use x=\"220.251953\" xlink:href=\"#DejaVuSans-380\"/>\n       <use x=\"272.742188\" xlink:href=\"#DejaVuSans-107\"/>\n       <use x=\"328.902344\" xlink:href=\"#DejaVuSans-97\"/>\n      </g>\n     </g>\n    </g>\n   </g>\n   <g id=\"matplotlib.axis_2\">\n    <g id=\"ytick_1\">\n     <g id=\"line2d_3\">\n      <defs>\n       <path d=\"M 0 0 \nL -3.5 0 \n\" id=\"m7851baf0a6\" style=\"stroke:#000000;stroke-width:0.8;\"/>\n      </defs>\n      <g>\n       <use style=\"stroke:#000000;stroke-width:0.8;\" x=\"26.925\" xlink:href=\"#m7851baf0a6\" y=\"224.64\"/>\n      </g>\n     </g>\n     <g id=\"text_3\">\n      <!-- 0 -->\n      <g transform=\"translate(13.5625 228.439219)scale(0.1 -0.1)\">\n       <defs>\n        <path d=\"M 31.78125 66.40625 \nQ 24.171875 66.40625 20.328125 58.90625 \nQ 16.5 51.421875 16.5 36.375 \nQ 16.5 21.390625 20.328125 13.890625 \nQ 24.171875 6.390625 31.78125 6.390625 \nQ 39.453125 6.390625 43.28125 13.890625 \nQ 47.125 21.390625 47.125 36.375 \nQ 47.125 51.421875 43.28125 58.90625 \nQ 39.453125 66.40625 31.78125 66.40625 \nz\nM 31.78125 74.21875 \nQ 44.046875 74.21875 50.515625 64.515625 \nQ 56.984375 54.828125 56.984375 36.375 \nQ 56.984375 17.96875 50.515625 8.265625 \nQ 44.046875 -1.421875 31.78125 -1.421875 \nQ 19.53125 -1.421875 13.0625 8.265625 \nQ 6.59375 17.96875 6.59375 36.375 \nQ 6.59375 54.828125 13.0625 64.515625 \nQ 19.53125 74.21875 31.78125 74.21875 \nz\n\" id=\"DejaVuSans-48\"/>\n       </defs>\n       <use xlink:href=\"#DejaVuSans-48\"/>\n      </g>\n     </g>\n    </g>\n    <g id=\"ytick_2\">\n     <g id=\"line2d_4\">\n      <g>\n       <use style=\"stroke:#000000;stroke-width:0.8;\" x=\"26.925\" xlink:href=\"#m7851baf0a6\" y=\"190.125714\"/>\n      </g>\n     </g>\n     <g id=\"text_4\">\n      <!-- 2 -->\n      <g transform=\"translate(13.5625 193.924933)scale(0.1 -0.1)\">\n       <defs>\n        <path d=\"M 19.1875 8.296875 \nL 53.609375 8.296875 \nL 53.609375 0 \nL 7.328125 0 \nL 7.328125 8.296875 \nQ 12.9375 14.109375 22.625 23.890625 \nQ 32.328125 33.6875 34.8125 36.53125 \nQ 39.546875 41.84375 41.421875 45.53125 \nQ 43.3125 49.21875 43.3125 52.78125 \nQ 43.3125 58.59375 39.234375 62.25 \nQ 35.15625 65.921875 28.609375 65.921875 \nQ 23.96875 65.921875 18.8125 64.3125 \nQ 13.671875 62.703125 7.8125 59.421875 \nL 7.8125 69.390625 \nQ 13.765625 71.78125 18.9375 73 \nQ 24.125 74.21875 28.421875 74.21875 \nQ 39.75 74.21875 46.484375 68.546875 \nQ 53.21875 62.890625 53.21875 53.421875 \nQ 53.21875 48.921875 51.53125 44.890625 \nQ 49.859375 40.875 45.40625 35.40625 \nQ 44.1875 33.984375 37.640625 27.21875 \nQ 31.109375 20.453125 19.1875 8.296875 \nz\n\" id=\"DejaVuSans-50\"/>\n       </defs>\n       <use xlink:href=\"#DejaVuSans-50\"/>\n      </g>\n     </g>\n    </g>\n    <g id=\"ytick_3\">\n     <g id=\"line2d_5\">\n      <g>\n       <use style=\"stroke:#000000;stroke-width:0.8;\" x=\"26.925\" xlink:href=\"#m7851baf0a6\" y=\"155.611429\"/>\n      </g>\n     </g>\n     <g id=\"text_5\">\n      <!-- 4 -->\n      <g transform=\"translate(13.5625 159.410647)scale(0.1 -0.1)\">\n       <defs>\n        <path d=\"M 37.796875 64.3125 \nL 12.890625 25.390625 \nL 37.796875 25.390625 \nz\nM 35.203125 72.90625 \nL 47.609375 72.90625 \nL 47.609375 25.390625 \nL 58.015625 25.390625 \nL 58.015625 17.1875 \nL 47.609375 17.1875 \nL 47.609375 0 \nL 37.796875 0 \nL 37.796875 17.1875 \nL 4.890625 17.1875 \nL 4.890625 26.703125 \nz\n\" id=\"DejaVuSans-52\"/>\n       </defs>\n       <use xlink:href=\"#DejaVuSans-52\"/>\n      </g>\n     </g>\n    </g>\n    <g id=\"ytick_4\">\n     <g id=\"line2d_6\">\n      <g>\n       <use style=\"stroke:#000000;stroke-width:0.8;\" x=\"26.925\" xlink:href=\"#m7851baf0a6\" y=\"121.097143\"/>\n      </g>\n     </g>\n     <g id=\"text_6\">\n      <!-- 6 -->\n      <g transform=\"translate(13.5625 124.896362)scale(0.1 -0.1)\">\n       <defs>\n        <path d=\"M 33.015625 40.375 \nQ 26.375 40.375 22.484375 35.828125 \nQ 18.609375 31.296875 18.609375 23.390625 \nQ 18.609375 15.53125 22.484375 10.953125 \nQ 26.375 6.390625 33.015625 6.390625 \nQ 39.65625 6.390625 43.53125 10.953125 \nQ 47.40625 15.53125 47.40625 23.390625 \nQ 47.40625 31.296875 43.53125 35.828125 \nQ 39.65625 40.375 33.015625 40.375 \nz\nM 52.59375 71.296875 \nL 52.59375 62.3125 \nQ 48.875 64.0625 45.09375 64.984375 \nQ 41.3125 65.921875 37.59375 65.921875 \nQ 27.828125 65.921875 22.671875 59.328125 \nQ 17.53125 52.734375 16.796875 39.40625 \nQ 19.671875 43.65625 24.015625 45.921875 \nQ 28.375 48.1875 33.59375 48.1875 \nQ 44.578125 48.1875 50.953125 41.515625 \nQ 57.328125 34.859375 57.328125 23.390625 \nQ 57.328125 12.15625 50.6875 5.359375 \nQ 44.046875 -1.421875 33.015625 -1.421875 \nQ 20.359375 -1.421875 13.671875 8.265625 \nQ 6.984375 17.96875 6.984375 36.375 \nQ 6.984375 53.65625 15.1875 63.9375 \nQ 23.390625 74.21875 37.203125 74.21875 \nQ 40.921875 74.21875 44.703125 73.484375 \nQ 48.484375 72.75 52.59375 71.296875 \nz\n\" id=\"DejaVuSans-54\"/>\n       </defs>\n       <use xlink:href=\"#DejaVuSans-54\"/>\n      </g>\n     </g>\n    </g>\n    <g id=\"ytick_5\">\n     <g id=\"line2d_7\">\n      <g>\n       <use style=\"stroke:#000000;stroke-width:0.8;\" x=\"26.925\" xlink:href=\"#m7851baf0a6\" y=\"86.582857\"/>\n      </g>\n     </g>\n     <g id=\"text_7\">\n      <!-- 8 -->\n      <g transform=\"translate(13.5625 90.382076)scale(0.1 -0.1)\">\n       <defs>\n        <path d=\"M 31.78125 34.625 \nQ 24.75 34.625 20.71875 30.859375 \nQ 16.703125 27.09375 16.703125 20.515625 \nQ 16.703125 13.921875 20.71875 10.15625 \nQ 24.75 6.390625 31.78125 6.390625 \nQ 38.8125 6.390625 42.859375 10.171875 \nQ 46.921875 13.96875 46.921875 20.515625 \nQ 46.921875 27.09375 42.890625 30.859375 \nQ 38.875 34.625 31.78125 34.625 \nz\nM 21.921875 38.8125 \nQ 15.578125 40.375 12.03125 44.71875 \nQ 8.5 49.078125 8.5 55.328125 \nQ 8.5 64.0625 14.71875 69.140625 \nQ 20.953125 74.21875 31.78125 74.21875 \nQ 42.671875 74.21875 48.875 69.140625 \nQ 55.078125 64.0625 55.078125 55.328125 \nQ 55.078125 49.078125 51.53125 44.71875 \nQ 48 40.375 41.703125 38.8125 \nQ 48.828125 37.15625 52.796875 32.3125 \nQ 56.78125 27.484375 56.78125 20.515625 \nQ 56.78125 9.90625 50.3125 4.234375 \nQ 43.84375 -1.421875 31.78125 -1.421875 \nQ 19.734375 -1.421875 13.25 4.234375 \nQ 6.78125 9.90625 6.78125 20.515625 \nQ 6.78125 27.484375 10.78125 32.3125 \nQ 14.796875 37.15625 21.921875 38.8125 \nz\nM 18.3125 54.390625 \nQ 18.3125 48.734375 21.84375 45.5625 \nQ 25.390625 42.390625 31.78125 42.390625 \nQ 38.140625 42.390625 41.71875 45.5625 \nQ 45.3125 48.734375 45.3125 54.390625 \nQ 45.3125 60.0625 41.71875 63.234375 \nQ 38.140625 66.40625 31.78125 66.40625 \nQ 25.390625 66.40625 21.84375 63.234375 \nQ 18.3125 60.0625 18.3125 54.390625 \nz\n\" id=\"DejaVuSans-56\"/>\n       </defs>\n       <use xlink:href=\"#DejaVuSans-56\"/>\n      </g>\n     </g>\n    </g>\n    <g id=\"ytick_6\">\n     <g id=\"line2d_8\">\n      <g>\n       <use style=\"stroke:#000000;stroke-width:0.8;\" x=\"26.925\" xlink:href=\"#m7851baf0a6\" y=\"52.068571\"/>\n      </g>\n     </g>\n     <g id=\"text_8\">\n      <!-- 10 -->\n      <g transform=\"translate(7.2 55.86779)scale(0.1 -0.1)\">\n       <defs>\n        <path d=\"M 12.40625 8.296875 \nL 28.515625 8.296875 \nL 28.515625 63.921875 \nL 10.984375 60.40625 \nL 10.984375 69.390625 \nL 28.421875 72.90625 \nL 38.28125 72.90625 \nL 38.28125 8.296875 \nL 54.390625 8.296875 \nL 54.390625 0 \nL 12.40625 0 \nz\n\" id=\"DejaVuSans-49\"/>\n       </defs>\n       <use xlink:href=\"#DejaVuSans-49\"/>\n       <use x=\"63.623047\" xlink:href=\"#DejaVuSans-48\"/>\n      </g>\n     </g>\n    </g>\n    <g id=\"ytick_7\">\n     <g id=\"line2d_9\">\n      <g>\n       <use style=\"stroke:#000000;stroke-width:0.8;\" x=\"26.925\" xlink:href=\"#m7851baf0a6\" y=\"17.554286\"/>\n      </g>\n     </g>\n     <g id=\"text_9\">\n      <!-- 12 -->\n      <g transform=\"translate(7.2 21.353504)scale(0.1 -0.1)\">\n       <use xlink:href=\"#DejaVuSans-49\"/>\n       <use x=\"63.623047\" xlink:href=\"#DejaVuSans-50\"/>\n      </g>\n     </g>\n    </g>\n   </g>\n   <g id=\"patch_5\">\n    <path d=\"M 26.925 224.64 \nL 26.925 7.2 \n\" style=\"fill:none;stroke:#000000;stroke-linecap:square;stroke-linejoin:miter;stroke-width:0.8;\"/>\n   </g>\n   <g id=\"patch_6\">\n    <path d=\"M 361.725 224.64 \nL 361.725 7.2 \n\" style=\"fill:none;stroke:#000000;stroke-linecap:square;stroke-linejoin:miter;stroke-width:0.8;\"/>\n   </g>\n   <g id=\"patch_7\">\n    <path d=\"M 26.925 224.64 \nL 361.725 224.64 \n\" style=\"fill:none;stroke:#000000;stroke-linecap:square;stroke-linejoin:miter;stroke-width:0.8;\"/>\n   </g>\n   <g id=\"patch_8\">\n    <path d=\"M 26.925 7.2 \nL 361.725 7.2 \n\" style=\"fill:none;stroke:#000000;stroke-linecap:square;stroke-linejoin:miter;stroke-width:0.8;\"/>\n   </g>\n  </g>\n </g>\n <defs>\n  <clipPath id=\"p178c2cce08\">\n   <rect height=\"217.44\" width=\"334.8\" x=\"26.925\" y=\"7.2\"/>\n  </clipPath>\n </defs>\n</svg>\n",
            "image/png": "[encoded data removed]"
          },
          "metadata": {
            "needs_background": "light"
          }
        }
      ],
      "source": [
        "joined_df[\"Targets Match\"].value_counts().plot(kind=\"bar\", color=[\"#0099CC\", \"#CC0000\"])\n",
        "plt.xticks(np.arange(0, 1, step=1))\n",
        "plt.xticks(np.arange(2), ('Sukces', 'Porażka'))\n",
        "plt.xticks(np.arange(2), rotation = 0)\n",
        "plt.show()"
      ]
    },
    {
      "cell_type": "code",
      "execution_count": null,
      "metadata": {},
      "outputs": [],
      "source": []
    }
  ]
}